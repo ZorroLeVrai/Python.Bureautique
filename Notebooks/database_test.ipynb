{
 "cells": [
  {
   "cell_type": "code",
   "execution_count": 6,
   "id": "d2e4ec54",
   "metadata": {},
   "outputs": [],
   "source": [
    "import pandas as pd\n",
    "from sqlalchemy import create_engine"
   ]
  },
  {
   "cell_type": "code",
   "execution_count": 7,
   "id": "f8b94946",
   "metadata": {},
   "outputs": [],
   "source": [
    "# Define your database connection parameters\n",
    "db_username = 'postgres'\n",
    "db_password = 'pass123'\n",
    "db_host = '127.0.0.1'\n",
    "db_port = '5432'\n",
    "db_name = 'Exercices'"
   ]
  },
  {
   "cell_type": "code",
   "execution_count": 10,
   "id": "ea5f45e6",
   "metadata": {},
   "outputs": [],
   "source": [
    "# Create the SQLAlchemy engine\n",
    "engine = create_engine(f'postgresql+psycopg2://{db_username}:{db_password}@{db_host}:{db_port}/{db_name}')"
   ]
  },
  {
   "cell_type": "code",
   "execution_count": 11,
   "id": "b5e5316a",
   "metadata": {},
   "outputs": [],
   "source": [
    "df = pd.read_sql(f'SELECT * FROM public.eleves', engine)"
   ]
  },
  {
   "cell_type": "code",
   "execution_count": 12,
   "id": "70f1a1ed",
   "metadata": {},
   "outputs": [
    {
     "name": "stdout",
     "output_type": "stream",
     "text": [
      "   id   prenom      nom   genre date_naissance  id_niveau\n",
      "0   1  Gabriel    Morin  Garçon     2007-10-04          3\n",
      "1   2      Léa   Benoit   Fille     2005-12-30          1\n",
      "2   3    Tiago    Morel  Garçon     2008-10-31          4\n",
      "3   4     Emma      Roy   Fille     2011-06-04          6\n",
      "4   5   Louise  Lacroix   Fille     2005-09-08          1\n"
     ]
    }
   ],
   "source": [
    "print(df.head())"
   ]
  },
  {
   "cell_type": "code",
   "execution_count": null,
   "id": "1104ce72",
   "metadata": {},
   "outputs": [],
   "source": []
  }
 ],
 "metadata": {
  "kernelspec": {
   "display_name": "Python 3 (ipykernel)",
   "language": "python",
   "name": "python3"
  },
  "language_info": {
   "codemirror_mode": {
    "name": "ipython",
    "version": 3
   },
   "file_extension": ".py",
   "mimetype": "text/x-python",
   "name": "python",
   "nbconvert_exporter": "python",
   "pygments_lexer": "ipython3",
   "version": "3.10.9"
  }
 },
 "nbformat": 4,
 "nbformat_minor": 5
}
