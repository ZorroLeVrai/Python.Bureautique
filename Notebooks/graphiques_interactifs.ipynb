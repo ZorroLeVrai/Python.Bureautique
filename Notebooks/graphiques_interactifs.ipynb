{
 "cells": [
  {
   "cell_type": "code",
   "execution_count": null,
   "id": "91134c8d",
   "metadata": {},
   "outputs": [],
   "source": [
    "import numpy as np\n",
    "import panel as pn\n",
    "import matplotlib.pyplot as plt"
   ]
  },
  {
   "cell_type": "code",
   "execution_count": null,
   "id": "2f6c4500",
   "metadata": {},
   "outputs": [],
   "source": [
    "#chargement de l'extension Panel\n",
    "pn.extension()\n",
    "\n",
    "# Données pour le graphique\n",
    "x = np.linspace(0, 10, 201)\n",
    "\n",
    "# Création du panneau interactif avec un widget pour la puissance\n",
    "puissance_widget = pn.widgets.FloatSlider(name='Puissance', start=0.1, end=10.0, step=0.1, value=1.0)\n",
    "\n",
    "@pn.depends(puissance_widget.param.value)\n",
    "def update_plot(puissance):\n",
    "    fig, ax = plt.subplots()\n",
    "    ax.plot(x, x**puissance)\n",
    "    ax.set_title('Graphique interactif avec Matplotlib')\n",
    "    ax.set_xlabel('x')\n",
    "    ax.set_ylabel('x^puissance')\n",
    "    plt.close(fig)\n",
    "    return fig\n",
    "\n",
    "# Création du panneau interactif\n",
    "panel_matplotlib = pn.Column(puissance_widget, update_plot)\n",
    "\n",
    "# Affichage du panneau interactif\n",
    "panel_matplotlib"
   ]
  },
  {
   "cell_type": "code",
   "execution_count": null,
   "id": "700a5d19",
   "metadata": {},
   "outputs": [],
   "source": [
    "pn.extension()\n",
    "\n",
    "# Données pour le graphique\n",
    "x = np.linspace(0, 10, 100)\n",
    "\n",
    "# Fonction pour créer un graphique interactif avec un coefficient\n",
    "def plot_matplotlib(coeff=1.0):\n",
    "    y = np.sin(coeff * x)\n",
    "    fig, ax = plt.subplots()\n",
    "    ax.plot(x, y)\n",
    "    ax.set_title(f'Graphique interactif avec Matplotlib (coeff={coeff})')\n",
    "    ax.set_xlabel('x')\n",
    "    ax.set_ylabel(f'sin({coeff} * x)')\n",
    "    plt.close(fig)\n",
    "    return fig\n",
    "\n",
    "# Widgets interactifs\n",
    "coeff_widget = pn.widgets.FloatSlider(name='Coefficient', start=0.1, end=2.0, step=0.1, value=1.0)\n",
    "\n",
    "# Fonction pour mettre à jour le graphique\n",
    "@pn.depends(coeff_widget.param.value)\n",
    "def update_plot(coeff):\n",
    "    return plot_matplotlib(coeff)\n",
    "\n",
    "# Création du panneau interactif\n",
    "panel_matplotlib = pn.Column(coeff_widget, update_plot)\n",
    "\n",
    "# Affichage du panneau interactif\n",
    "panel_matplotlib\n"
   ]
  },
  {
   "cell_type": "code",
   "execution_count": null,
   "id": "b866f41b",
   "metadata": {},
   "outputs": [],
   "source": [
    "pn.extension()\n",
    "\n",
    "# Widgets interactifs\n",
    "min_widget = pn.widgets.FloatSlider(name='Xmin', start=-20, end=20, step=0.1, value=-5)\n",
    "max_widget = pn.widgets.FloatSlider(name='Xmax', start=-20, end=20, step=0.1, value=5)\n",
    "\n",
    "# Fonction pour créer un graphique interactif avec un coefficient\n",
    "def plot_matplotlib(xmin, xmax):\n",
    "    x = np.linspace(xmin, xmax, 100)\n",
    "    y = np.sin(x)\n",
    "    fig, ax = plt.subplots()\n",
    "    ax.plot(x, y)\n",
    "    ax.set_title('Graphique interactif avec Matplotlib')\n",
    "    ax.set_xlabel('x')\n",
    "    ax.set_ylabel('sin(x)')\n",
    "    plt.close(fig)\n",
    "    return fig\n",
    "\n",
    "# Fonction pour mettre à jour le graphique\n",
    "@pn.depends(min_widget.param.value, max_widget.param.value)\n",
    "def update_plot(xmin, xmax):\n",
    "    return plot_matplotlib(xmin, xmax)\n",
    "\n",
    "# Création du panneau interactif\n",
    "panel_matplotlib = pn.Column(min_widget, max_widget, update_plot)\n",
    "\n",
    "# Création d'un tableau de bord\n",
    "dashboard = pn.Tabs(('Graphique Matplotlib', panel_matplotlib))\n",
    "\n",
    "# Affichage du tableau de bord\n",
    "dashboard"
   ]
  },
  {
   "cell_type": "code",
   "execution_count": null,
   "id": "63c4f140",
   "metadata": {},
   "outputs": [],
   "source": []
  }
 ],
 "metadata": {
  "kernelspec": {
   "display_name": "Python 3 (ipykernel)",
   "language": "python",
   "name": "python3"
  },
  "language_info": {
   "codemirror_mode": {
    "name": "ipython",
    "version": 3
   },
   "file_extension": ".py",
   "mimetype": "text/x-python",
   "name": "python",
   "nbconvert_exporter": "python",
   "pygments_lexer": "ipython3",
   "version": "3.10.9"
  }
 },
 "nbformat": 4,
 "nbformat_minor": 5
}
