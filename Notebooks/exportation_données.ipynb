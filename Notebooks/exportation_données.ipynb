{
 "cells": [
  {
   "cell_type": "code",
   "execution_count": null,
   "id": "7312bc9c",
   "metadata": {},
   "outputs": [],
   "source": [
    "# Écriture dans un fichier texte\n",
    "with open('output.txt', 'w', encoding='utf8') as file:\n",
    "    file.write(\"Contenu à écrire dans le fichier.\")"
   ]
  },
  {
   "cell_type": "code",
   "execution_count": null,
   "id": "132c65ee",
   "metadata": {},
   "outputs": [],
   "source": [
    "import json\n",
    "#Ecriture dans un fichier json\n",
    "data = {'FirstName': 'John', 'LastName': 'Doe', 'Colonne1': [1, 2, 3]}\n",
    "with open('output.json', 'w') as f:\n",
    "    json.dump(data, f, indent=2)"
   ]
  },
  {
   "cell_type": "code",
   "execution_count": null,
   "id": "d14d0b0f",
   "metadata": {},
   "outputs": [],
   "source": [
    "import csv\n",
    "\n",
    "data = {'Colonne1': [1, 2, 3], 'Colonne2': ['A', 'B', 'C']}\n",
    "\n",
    "# écriture du fichier `output.csv`\n",
    "with open('output.csv', 'w', newline='') as csv_file:\n",
    "    csv_writer = csv.writer(csv_file)\n",
    "\n",
    "    # écriture du header\n",
    "    csv_writer.writerow(data.keys())\n",
    "\n",
    "    # écrtiture des données\n",
    "    for row in zip(*data.values()):\n",
    "        csv_writer.writerow(row)"
   ]
  },
  {
   "cell_type": "markdown",
   "id": "ca033ef7",
   "metadata": {},
   "source": [
    "## Création de fichier CSV"
   ]
  },
  {
   "cell_type": "code",
   "execution_count": null,
   "id": "68245e4a",
   "metadata": {},
   "outputs": [],
   "source": [
    "import pandas as pd\n",
    "\n",
    "# Création d'un DataFrame\n",
    "data = {'Colonne1': [1, 2, 3], 'Colonne2': ['A', 'B', 'C']}\n",
    "df = pd.DataFrame(data)\n",
    "\n",
    "display(df)"
   ]
  },
  {
   "cell_type": "code",
   "execution_count": null,
   "id": "da3f9ba0",
   "metadata": {},
   "outputs": [],
   "source": [
    "# Exportation vers un fichier CSV\n",
    "df.to_csv('output.csv')"
   ]
  },
  {
   "cell_type": "code",
   "execution_count": null,
   "id": "588ea702",
   "metadata": {},
   "outputs": [],
   "source": [
    "df.to_csv('output.csv', index=False, sep=\";\")\n",
    "print(\"Fichier créé\")"
   ]
  },
  {
   "cell_type": "markdown",
   "id": "152185fb",
   "metadata": {},
   "source": [
    "## Création d'un fichier Excel"
   ]
  },
  {
   "cell_type": "code",
   "execution_count": null,
   "id": "3733f30a",
   "metadata": {},
   "outputs": [],
   "source": [
    "# Exportation vers un fichier Excel\n",
    "df.to_excel('output.xlsx', index=False)\n",
    "print(\"Fichier créé\")"
   ]
  },
  {
   "cell_type": "code",
   "execution_count": null,
   "id": "b70b178c",
   "metadata": {},
   "outputs": [],
   "source": [
    "df"
   ]
  },
  {
   "cell_type": "code",
   "execution_count": null,
   "id": "dcc81f0b",
   "metadata": {},
   "outputs": [],
   "source": [
    "df_modifie1 = df.drop(2)\n",
    "df_modifie1"
   ]
  },
  {
   "cell_type": "code",
   "execution_count": null,
   "id": "6141cfbc",
   "metadata": {},
   "outputs": [],
   "source": [
    "#chemin_complet = r\"D:\\Users\\amine\\Documents\\Temp\\Buffer\\output.xlsx\"\n",
    "chemin_complet = \"output_v2.xlsx\"\n",
    "df_modifie1.to_excel(chemin_complet, index=False)\n",
    "print(\"Fichier créé\")"
   ]
  },
  {
   "cell_type": "code",
   "execution_count": null,
   "id": "304edd9f",
   "metadata": {},
   "outputs": [],
   "source": [
    "# Création d'un fichier Excel avec plusieurs onglets\n",
    "with pd.ExcelWriter(\"output_v3.xlsx\") as writer:  \n",
    "    df.to_excel(writer, sheet_name='Complet')\n",
    "    df_modifie1.to_excel(writer, sheet_name='Modifié')\n",
    "\n",
    "print(\"Fichier créé\")"
   ]
  },
  {
   "cell_type": "code",
   "execution_count": null,
   "id": "47d0e4cf",
   "metadata": {},
   "outputs": [],
   "source": []
  }
 ],
 "metadata": {
  "kernelspec": {
   "display_name": "Python 3 (ipykernel)",
   "language": "python",
   "name": "python3"
  },
  "language_info": {
   "codemirror_mode": {
    "name": "ipython",
    "version": 3
   },
   "file_extension": ".py",
   "mimetype": "text/x-python",
   "name": "python",
   "nbconvert_exporter": "python",
   "pygments_lexer": "ipython3",
   "version": "3.10.9"
  }
 },
 "nbformat": 4,
 "nbformat_minor": 5
}
