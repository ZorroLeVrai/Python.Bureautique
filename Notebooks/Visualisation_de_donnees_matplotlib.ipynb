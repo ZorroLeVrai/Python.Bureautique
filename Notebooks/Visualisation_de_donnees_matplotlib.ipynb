{
 "cells": [
  {
   "cell_type": "markdown",
   "id": "545062f2",
   "metadata": {},
   "source": [
    "## Visualisation avec Matplotlib"
   ]
  },
  {
   "cell_type": "code",
   "execution_count": null,
   "id": "58de3474",
   "metadata": {},
   "outputs": [],
   "source": [
    "import numpy as np\n",
    "import matplotlib.pyplot as plt\n",
    "import math"
   ]
  },
  {
   "cell_type": "markdown",
   "id": "1b5b3465",
   "metadata": {},
   "source": [
    "### Affichage de graphes (équations)"
   ]
  },
  {
   "cell_type": "code",
   "execution_count": null,
   "id": "8af41ec4",
   "metadata": {},
   "outputs": [],
   "source": [
    "# Données\n",
    "x = np.linspace(0, 10, 101)\n",
    "y = np.sin(x)\n",
    "\n",
    "print(\"x=\", x)\n",
    "print(\"y=\", y)"
   ]
  },
  {
   "cell_type": "code",
   "execution_count": null,
   "id": "e6e15cdf",
   "metadata": {},
   "outputs": [],
   "source": [
    "# Tracer la courbe\n",
    "plt.plot(x, y, label='sin(x)')\n",
    "plt.title('Courbe sin(x)')\n",
    "plt.xlabel('x')\n",
    "plt.ylabel('sin(x)')\n",
    "\n",
    "plt.legend()\n",
    "plt.show()"
   ]
  },
  {
   "cell_type": "code",
   "execution_count": null,
   "id": "ee5d4ca0",
   "metadata": {},
   "outputs": [],
   "source": [
    "#données\n",
    "x = np.arange(0, 10, 0.1)\n",
    "\n",
    "print(\"x=\", x)\n",
    "\n",
    "# Plusieurs courbes sur le même graphique\n",
    "y1 = np.sin(x)\n",
    "y2 = np.cos(x)\n",
    "\n",
    "print(y2)"
   ]
  },
  {
   "cell_type": "code",
   "execution_count": null,
   "id": "768e2c9b",
   "metadata": {},
   "outputs": [],
   "source": [
    "plt.plot(x, y1, label='sin(x)', color='blue')\n",
    "plt.plot(x, y2, label='cos(x)', color='red')\n",
    "plt.title('Courbes sin(x) et cos(x)')\n",
    "plt.xlabel('x')\n",
    "plt.ylabel('y')\n",
    "plt.grid(True, which='both')\n",
    "\n",
    "plt.axhline(y=0, color='k')\n",
    "plt.axvline(x=0, color='k')\n",
    "\n",
    "plt.legend()\n",
    "plt.show()"
   ]
  },
  {
   "cell_type": "markdown",
   "id": "813e3ca0",
   "metadata": {},
   "source": [
    "#### Equations paramétriques"
   ]
  },
  {
   "cell_type": "code",
   "execution_count": null,
   "id": "c70caeca",
   "metadata": {},
   "outputs": [],
   "source": [
    "#données\n",
    "t = np.arange(0, 6*math.pi, 0.1)\n",
    "centre_roue_x = t\n",
    "centre_roue_y = 1\n",
    "x = centre_roue_x + np.cos(-t-math.pi/2)\n",
    "y = centre_roue_y + np.sin(-t-math.pi/2)\n",
    "\n",
    "# dessine le graphe\n",
    "plt.plot(x, y, label='equation paramétrique 1', color='blue')\n",
    "\n",
    "#met à jour la fenêtre d'affichage\n",
    "ax = plt.gca()\n",
    "ax.set_xlim([-1, 20])\n",
    "ax.set_ylim([-1, 3])\n",
    "plt.legend()\n",
    "plt.show()"
   ]
  },
  {
   "cell_type": "code",
   "execution_count": null,
   "id": "a446bc51",
   "metadata": {},
   "outputs": [],
   "source": [
    "#données\n",
    "t = np.arange(0, 2*math.pi, 0.02)\n",
    "centre_terre_x = 10*np.cos(t)\n",
    "centre_terre_y = 10*np.sin(t)\n",
    "centre_lune_x = centre_terre_x + np.cos(12*t)\n",
    "centre_lune_y = centre_terre_y + np.sin(12*t)\n",
    "\n",
    "# dessine le graphe\n",
    "plt.plot(centre_lune_x, centre_lune_y, label='equation paramétrique 2', color='red')\n",
    "\n",
    "plt.legend()\n",
    "plt.show()"
   ]
  },
  {
   "cell_type": "markdown",
   "id": "84c9f4f6",
   "metadata": {},
   "source": [
    "### Affichage d'histogrammes"
   ]
  },
  {
   "cell_type": "code",
   "execution_count": null,
   "id": "e7a28431",
   "metadata": {},
   "outputs": [],
   "source": [
    "# Tracer des histogrammes avec Matplotlib\n",
    "xdata = np.array([1.2, 2.3, 3.3, 3.1, 1.7, 3.4, 2.1, 1.25, 1.3])\n",
    "xbins = np.array([1, 2, 3, 4])\n",
    "\n",
    "fig, ax = plt.subplots()\n",
    "ax.hist(xdata, bins=xbins, facecolor='none', edgecolor='C0', linewidth=3)\n",
    "\n",
    "# ajoute un plot pour chaque occurence xdata sur l'axe des abscice\n",
    "ax.plot(xdata, 0*xdata, 'd')\n",
    "ax.set_ylabel('Number per bin')\n",
    "ax.set_xlabel('x bins (dx=1.0)')\n",
    "plt.show()"
   ]
  },
  {
   "cell_type": "code",
   "execution_count": null,
   "id": "26d8ada3",
   "metadata": {},
   "outputs": [],
   "source": [
    "np.random.randn(1000)"
   ]
  },
  {
   "cell_type": "code",
   "execution_count": null,
   "id": "9c1dafd6",
   "metadata": {},
   "outputs": [],
   "source": [
    "# Tracer des histogrammes avec Matplotlib\n",
    "# Données\n",
    "donnees = np.random.randn(100000)\n",
    "\n",
    "# Tracer l'histogramme\n",
    "plt.hist(donnees, bins=50, color='skyblue', edgecolor='black')\n",
    "plt.title('Histogramme des données aléatoires')\n",
    "plt.xlabel('Valeurs')\n",
    "plt.ylabel('Fréquence')\n",
    "plt.show()"
   ]
  },
  {
   "cell_type": "code",
   "execution_count": null,
   "id": "4a55ec82",
   "metadata": {},
   "outputs": [],
   "source": [
    "# Données pour le Pie Chart\n",
    "labels = np.array(['Catégorie 1', 'Catégorie 2', 'Catégorie 3'])\n",
    "sizes = np.array([30, 45, 25])\n",
    "\n",
    "# Tracer le Pie Chart\n",
    "plt.pie(sizes, labels=labels, autopct='%.1f%%', counterclock=False)\n",
    "plt.title('Exemple de Pie Chart')\n",
    "plt.show()"
   ]
  },
  {
   "cell_type": "code",
   "execution_count": null,
   "id": "be1a45b2",
   "metadata": {},
   "outputs": [],
   "source": []
  }
 ],
 "metadata": {
  "kernelspec": {
   "display_name": "Python 3 (ipykernel)",
   "language": "python",
   "name": "python3"
  },
  "language_info": {
   "codemirror_mode": {
    "name": "ipython",
    "version": 3
   },
   "file_extension": ".py",
   "mimetype": "text/x-python",
   "name": "python",
   "nbconvert_exporter": "python",
   "pygments_lexer": "ipython3",
   "version": "3.10.9"
  }
 },
 "nbformat": 4,
 "nbformat_minor": 5
}
