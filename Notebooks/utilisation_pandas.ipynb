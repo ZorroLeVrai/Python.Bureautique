{
 "cells": [
  {
   "cell_type": "code",
   "execution_count": 1,
   "id": "f9ad3296",
   "metadata": {},
   "outputs": [],
   "source": [
    "#importations\n",
    "import pandas as pd    \n",
    "\n",
    "#initialisation des variables\n",
    "path = \"./Data/eleves.csv\""
   ]
  },
  {
   "cell_type": "code",
   "execution_count": null,
   "id": "3917d8f6",
   "metadata": {},
   "outputs": [],
   "source": [
    "df_test = pd.read_csv(path, encoding=\"latin1\")\n",
    "df_test.head()"
   ]
  },
  {
   "cell_type": "code",
   "execution_count": null,
   "id": "ea22a896",
   "metadata": {},
   "outputs": [],
   "source": [
    "df_test.tail()"
   ]
  },
  {
   "cell_type": "code",
   "execution_count": null,
   "id": "8f4adf65",
   "metadata": {},
   "outputs": [],
   "source": [
    "df_test.info()"
   ]
  },
  {
   "cell_type": "code",
   "execution_count": null,
   "id": "36d87b68",
   "metadata": {},
   "outputs": [],
   "source": [
    "#récupération simple de données\n",
    "df_simple = pd.read_csv(path, encoding='latin1', parse_dates=['date_naissance'])\n",
    "df_simple"
   ]
  },
  {
   "cell_type": "code",
   "execution_count": null,
   "id": "2681faae",
   "metadata": {},
   "outputs": [],
   "source": [
    "df_simple.info()"
   ]
  },
  {
   "cell_type": "code",
   "execution_count": null,
   "id": "51ff89fc",
   "metadata": {},
   "outputs": [],
   "source": [
    "#récupération des dataframes\n",
    "df = pd.read_csv(path, encoding='latin1', dtype={'id': 'int', 'prenom': 'string', 'nom': 'string', 'sexe': 'string', 'classe': 'int'}, parse_dates=['date_naissance'], on_bad_lines='error')\n",
    "df"
   ]
  },
  {
   "cell_type": "code",
   "execution_count": null,
   "id": "7675ce6d",
   "metadata": {},
   "outputs": [],
   "source": [
    "#informations sur le dataframe\n",
    "df.info()"
   ]
  },
  {
   "cell_type": "code",
   "execution_count": null,
   "id": "a63b42c0",
   "metadata": {},
   "outputs": [],
   "source": [
    "#affichage des données statistiques du dataframe\n",
    "df.describe()"
   ]
  },
  {
   "cell_type": "code",
   "execution_count": null,
   "id": "83df0e6e",
   "metadata": {},
   "outputs": [],
   "source": [
    "df"
   ]
  },
  {
   "cell_type": "code",
   "execution_count": 13,
   "id": "57ea8329",
   "metadata": {},
   "outputs": [],
   "source": [
    "#sélection de colonnes spécifiques\n",
    "df_prenom_nom = df[['prenom', 'nom']]"
   ]
  },
  {
   "cell_type": "code",
   "execution_count": null,
   "id": "97753f3b",
   "metadata": {},
   "outputs": [],
   "source": [
    "df_prenom_nom"
   ]
  },
  {
   "cell_type": "code",
   "execution_count": null,
   "id": "86c1a120",
   "metadata": {},
   "outputs": [],
   "source": [
    "df.columns"
   ]
  },
  {
   "cell_type": "code",
   "execution_count": null,
   "id": "2a817e80",
   "metadata": {},
   "outputs": [],
   "source": [
    "df[[df.columns[0], df.columns[2]]]"
   ]
  },
  {
   "cell_type": "code",
   "execution_count": null,
   "id": "de0c8fe4",
   "metadata": {},
   "outputs": [],
   "source": [
    "#Affichage du nom des colonnes\n",
    "df.columns"
   ]
  },
  {
   "cell_type": "code",
   "execution_count": null,
   "id": "34471172",
   "metadata": {},
   "outputs": [],
   "source": [
    "#Filtrage de données\n",
    "donnees_filtrees = df[df['sexe'] == 'Fille']\n",
    "donnees_filtrees"
   ]
  },
  {
   "cell_type": "code",
   "execution_count": null,
   "id": "8621921d",
   "metadata": {},
   "outputs": [],
   "source": [
    "#Filtrage de données (opération ET)\n",
    "donnees_filtrees2 = df[(df['date_naissance'].dt.year > 2007) & (df['sexe'] == 'Fille')]\n",
    "donnees_filtrees2"
   ]
  },
  {
   "cell_type": "code",
   "execution_count": null,
   "id": "c208f51a",
   "metadata": {},
   "outputs": [],
   "source": [
    "#Filtrage de données (opération OU)\n",
    "donnees_filtrees3 = df[(df['date_naissance'].dt.year > 2007) | (df['sexe'] == 'Fille')]\n",
    "donnees_filtrees3"
   ]
  },
  {
   "cell_type": "code",
   "execution_count": null,
   "id": "fb15afd3",
   "metadata": {},
   "outputs": [],
   "source": [
    "#Filtrage de données (opération NON)\n",
    "donnees_filtrees4 = df[~(df['date_naissance'].dt.year > 2007)]\n",
    "donnees_filtrees4"
   ]
  },
  {
   "cell_type": "code",
   "execution_count": null,
   "id": "dbcec377",
   "metadata": {},
   "outputs": [],
   "source": [
    "#Ajout d'une nouvelle colonne basée sur des calculs\n",
    "df['nom_prenom'] = df['prenom'] + \" \" + df['nom']\n",
    "df"
   ]
  },
  {
   "cell_type": "code",
   "execution_count": null,
   "id": "a2179fb4",
   "metadata": {},
   "outputs": [],
   "source": [
    "#Renommer une colonne\n",
    "df.rename(columns={'prenom': 'first name'}, inplace=True)\n",
    "df"
   ]
  },
  {
   "cell_type": "code",
   "execution_count": null,
   "id": "b2dad0c1",
   "metadata": {},
   "outputs": [],
   "source": [
    "#Suppression de colonnes\n",
    "df = df.drop(\"nom_prenom\", axis=\"columns\")\n",
    "df"
   ]
  },
  {
   "cell_type": "code",
   "execution_count": null,
   "id": "82f308f0",
   "metadata": {},
   "outputs": [],
   "source": [
    "#Suppression de ligne\n",
    "df.drop([4999], axis=\"index\")"
   ]
  },
  {
   "cell_type": "code",
   "execution_count": null,
   "id": "7f7de7fe",
   "metadata": {},
   "outputs": [],
   "source": [
    "#Tri des données\n",
    "donnees_triees = df.sort_values(by='date_naissance', ascending=True)\n",
    "donnees_triees"
   ]
  },
  {
   "cell_type": "code",
   "execution_count": null,
   "id": "5b73ab96",
   "metadata": {},
   "outputs": [],
   "source": [
    "#Calculs statistiques\n",
    "moyenne = df['date_naissance'].mean()\n",
    "mediane = df['date_naissance'].median()\n",
    "f\"moyenne: {moyenne}; mediane: {mediane}\""
   ]
  },
  {
   "cell_type": "code",
   "execution_count": null,
   "id": "870d25dc",
   "metadata": {},
   "outputs": [],
   "source": [
    "df.columns"
   ]
  },
  {
   "cell_type": "code",
   "execution_count": null,
   "id": "fb7077f1",
   "metadata": {},
   "outputs": [],
   "source": [
    "type(df['classe'])"
   ]
  },
  {
   "cell_type": "code",
   "execution_count": null,
   "id": "2c6de252",
   "metadata": {},
   "outputs": [],
   "source": [
    "type(df)"
   ]
  },
  {
   "cell_type": "code",
   "execution_count": null,
   "id": "423db056",
   "metadata": {},
   "outputs": [],
   "source": [
    "#def incrementer(classe):\n",
    "#    return classe+1\n",
    "\n",
    "# Appliquer une fonction personnalisée à une colonne\n",
    "df['class_plus_un'] = df['classe'].apply(lambda classe: classe+1)\n",
    "df"
   ]
  },
  {
   "cell_type": "code",
   "execution_count": null,
   "id": "b01821c4",
   "metadata": {},
   "outputs": [],
   "source": [
    "# Appliquer une fonction personnalisée à 2 colonnes\n",
    "# df['nom_prenom'] = df['prenom'] + \" \" + df['nom']\n",
    "\n",
    "def generer_nom_prenom(data_row):\n",
    "    return f\"{data_row['first name']} {data_row['nom']}\"\n",
    "\n",
    "df['nom_prenom'] = df.apply(generer_nom_prenom, axis=\"columns\")\n",
    "\n",
    "df"
   ]
  },
  {
   "cell_type": "code",
   "execution_count": null,
   "id": "3f8122c4",
   "metadata": {},
   "outputs": [],
   "source": []
  }
 ],
 "metadata": {
  "kernelspec": {
   "display_name": "Python 3 (ipykernel)",
   "language": "python",
   "name": "python3"
  },
  "language_info": {
   "codemirror_mode": {
    "name": "ipython",
    "version": 3
   },
   "file_extension": ".py",
   "mimetype": "text/x-python",
   "name": "python",
   "nbconvert_exporter": "python",
   "pygments_lexer": "ipython3",
   "version": "3.10.9"
  }
 },
 "nbformat": 4,
 "nbformat_minor": 5
}
