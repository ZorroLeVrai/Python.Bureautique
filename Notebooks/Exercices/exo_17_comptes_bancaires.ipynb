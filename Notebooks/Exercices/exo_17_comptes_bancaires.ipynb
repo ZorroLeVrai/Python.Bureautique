{
 "cells": [
  {
   "cell_type": "markdown",
   "id": "98b82e05",
   "metadata": {},
   "source": [
    "## Analyse de comptes bancaires"
   ]
  },
  {
   "cell_type": "code",
   "execution_count": null,
   "id": "fe62c58c",
   "metadata": {},
   "outputs": [],
   "source": [
    "#importation des librairies\n",
    "import pandas as pd\n",
    "import os"
   ]
  },
  {
   "cell_type": "code",
   "execution_count": null,
   "id": "563ab158",
   "metadata": {},
   "outputs": [],
   "source": [
    "#paramètres de l'application\n",
    "file_location = \"./Data/Comptes_Bancaires\"\n",
    "\n",
    "address_file = os.path.join(file_location, \"adresses.csv\")\n",
    "client_file = os.path.join(file_location, \"clients.csv\")\n",
    "account_file = os.path.join(file_location, \"comptes.csv\")"
   ]
  },
  {
   "cell_type": "code",
   "execution_count": null,
   "id": "8f7b2b69",
   "metadata": {},
   "outputs": [],
   "source": [
    "# 1. Chargez les fichiers dans les dataframes\n",
    "df_adresses = pd.read_csv(address_file)\n",
    "df_clients = pd.read_csv(client_file)\n",
    "df_comptes = pd.read_csv(account_file)"
   ]
  },
  {
   "cell_type": "code",
   "execution_count": null,
   "id": "8f8d310a",
   "metadata": {},
   "outputs": [],
   "source": [
    "# 2. Affichez les 10 premières lignes de df_adresses\n",
    "df_adresses.head(10)"
   ]
  },
  {
   "cell_type": "code",
   "execution_count": null,
   "id": "c87d8a2d",
   "metadata": {},
   "outputs": [],
   "source": [
    "# 2. Affichez les 10 premières lignes de df_clients\n",
    "df_clients.head(10)"
   ]
  },
  {
   "cell_type": "code",
   "execution_count": null,
   "id": "ebe61420",
   "metadata": {},
   "outputs": [],
   "source": [
    "# 2. Affichez les 10 premières lignes de df_comptes\n",
    "df_comptes.head(10)"
   ]
  },
  {
   "cell_type": "code",
   "execution_count": null,
   "id": "20182bee",
   "metadata": {},
   "outputs": [],
   "source": [
    "df_clients.info()"
   ]
  },
  {
   "cell_type": "code",
   "execution_count": null,
   "id": "f62e2859",
   "metadata": {},
   "outputs": [],
   "source": [
    "# 3. Convertissez la colonne \"date_naissance\" en type datetime\n",
    "df_clients[\"date_naissance\"] = pd.to_datetime(df_clients[\"date_naissance\"])"
   ]
  },
  {
   "cell_type": "code",
   "execution_count": null,
   "id": "33840afc",
   "metadata": {},
   "outputs": [],
   "source": [
    "# Vérification de la conversion de types\n",
    "df_clients.info()"
   ]
  },
  {
   "cell_type": "code",
   "execution_count": null,
   "id": "91c90b6c",
   "metadata": {},
   "outputs": [],
   "source": [
    "# 4. Affichez les données prénoms, noms et dates de naissance des clients nés avant 1990\n",
    "df_clients_1990 = df_clients[df_clients['date_naissance'] < '1990-01-01']\n",
    "df_clients_1990[['prenom', 'nom', 'date_naissance']]"
   ]
  },
  {
   "cell_type": "code",
   "execution_count": null,
   "id": "c982e1ab",
   "metadata": {},
   "outputs": [],
   "source": [
    "# 5. Faites une jointure entre les dataframes df_adresses, df_clients en utilisant la colonne \"adresse_id\"\n",
    "#df_clients_adresses = pd.merge(df_clients, df_adresses, on='adresse_id')\n",
    "df_clients_adresses = df_clients.merge(df_adresses, on='adresse_id')\n",
    "df_clients_adresses"
   ]
  },
  {
   "cell_type": "code",
   "execution_count": null,
   "id": "409b37f8",
   "metadata": {},
   "outputs": [],
   "source": [
    "# 6. Affichez les colonnes suivantes pour les 10 premiers clients: prenom, nom, numero_rue, nom_rue, nom_ville\n",
    "df_clients_adresses[[\"prenom\", \"nom\", \"numero_rue\", \"nom_rue\", \"nom_ville\"]].head(10)"
   ]
  },
  {
   "cell_type": "code",
   "execution_count": null,
   "id": "0ef1443e",
   "metadata": {},
   "outputs": [],
   "source": [
    "# 7. Effectuez une jointure entre df_clients_adresses et df_comptes en utilisant code_client\n",
    "df_all_data = pd.merge(df_clients_adresses, df_comptes, on='code_client')\n",
    "df_all_data.head(10)"
   ]
  },
  {
   "cell_type": "code",
   "execution_count": null,
   "id": "9ce1d139",
   "metadata": {},
   "outputs": [],
   "source": [
    "# 8. Affichez les colonnes suivantes: iban, valorisation_en_cents, prenom, nom, date_naissance, nom_ville du dataframe df_all_data\n",
    "df_all_data[[\"iban\", \"valorisation_en_cents\", \"prenom\", \"nom\", \"date_naissance\", \"nom_ville\"]].head(10)"
   ]
  },
  {
   "cell_type": "code",
   "execution_count": null,
   "id": "b757787b",
   "metadata": {},
   "outputs": [],
   "source": [
    "# 9.Calculez la valorisation totale des comptes en euros pour chaque ville\n",
    "df_valo_par_ville = df_all_data.groupby(\"nom_ville\") \\\n",
    "    .agg(valorisation_en_euros=(\"valorisation_en_cents\", lambda val:val.sum()/100))\n",
    "\n",
    "df_valo_par_ville.sort_values(by=\"valorisation_en_euros\", ascending=False)"
   ]
  },
  {
   "cell_type": "code",
   "execution_count": null,
   "id": "b53cc488",
   "metadata": {},
   "outputs": [],
   "source": [
    "# 10. Comptez le nombre de comptes associés à une adresse\n",
    "df_all_data.groupby(['adresse_id', 'numero_rue', 'nom_rue', 'code_ville']).size() \\\n",
    "    .reset_index(name='nombre_comptes') \\\n",
    "    .sort_values(by=\"nombre_comptes\", ascending=False)"
   ]
  },
  {
   "cell_type": "code",
   "execution_count": null,
   "id": "126d52f6",
   "metadata": {},
   "outputs": [],
   "source": [
    "# Autre possibilité\n",
    "df_all_data.groupby('adresse_id').agg(nombre_comptes=(\"iban\", \"count\")) \\\n",
    "    .sort_values(by=\"nombre_comptes\", ascending=False)"
   ]
  },
  {
   "cell_type": "code",
   "execution_count": null,
   "id": "78771d7e",
   "metadata": {},
   "outputs": [],
   "source": [
    "# 11. Affichez la valorisation de tous les comptes en Euros par prénom\n",
    "df_all_data.groupby(\"prenom\") \\\n",
    "    .agg(valorisation_en_euros=(\"valorisation_en_cents\", lambda val:val.sum()/100)) \\\n",
    "    .sort_values(by=\"valorisation_en_euros\", ascending=False)"
   ]
  },
  {
   "cell_type": "code",
   "execution_count": null,
   "id": "04a1040a",
   "metadata": {},
   "outputs": [],
   "source": []
  }
 ],
 "metadata": {
  "kernelspec": {
   "display_name": "Python 3 (ipykernel)",
   "language": "python",
   "name": "python3"
  },
  "language_info": {
   "codemirror_mode": {
    "name": "ipython",
    "version": 3
   },
   "file_extension": ".py",
   "mimetype": "text/x-python",
   "name": "python",
   "nbconvert_exporter": "python",
   "pygments_lexer": "ipython3",
   "version": "3.10.9"
  }
 },
 "nbformat": 4,
 "nbformat_minor": 5
}
