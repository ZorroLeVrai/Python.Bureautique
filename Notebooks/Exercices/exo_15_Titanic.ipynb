{
 "cells": [
  {
   "cell_type": "markdown",
   "id": "9a369c2e",
   "metadata": {},
   "source": [
    "## Statistiques sur les passagers du Titanic\n"
   ]
  },
  {
   "cell_type": "code",
   "execution_count": null,
   "id": "ee8a112c",
   "metadata": {},
   "outputs": [],
   "source": [
    "#importations\n",
    "import pandas as pd\n",
    "import matplotlib.pyplot as plt\n",
    "\n",
    "#initialisation des variables\n",
    "fichier_passagers = \"./Data/Titanic/passengers.csv\"\n",
    "fichier_survie = \"./Data/Titanic/survival.csv\""
   ]
  },
  {
   "cell_type": "code",
   "execution_count": null,
   "id": "8f57e296",
   "metadata": {},
   "outputs": [],
   "source": [
    "#récupération des dataframes\n",
    "df_passagers = pd.read_csv(fichier_passagers, dtype={'PassengerId': 'int', 'Pclass': 'int', 'Name': 'string', 'Sex': 'string', 'Age': 'Float64', 'Fare': 'Float64'})\n",
    "df_survie = pd.read_csv(fichier_survie, dtype={'PassengerId': 'int', 'Survived': 'boolean'})\n",
    "\n",
    "display(df_passagers)\n",
    "display(df_survie)"
   ]
  },
  {
   "cell_type": "code",
   "execution_count": null,
   "id": "9af0dbc5",
   "metadata": {},
   "outputs": [],
   "source": [
    "#récupération des dataframes\n",
    "df_passagers = pd.read_csv(fichier_passagers, dtype={'Age': 'Float64'})\n",
    "df_survie = pd.read_csv(fichier_survie, dtype={'Survived': 'boolean'})\n",
    "\n",
    "display(df_passagers.info())\n",
    "display(df_survie.info())"
   ]
  },
  {
   "cell_type": "code",
   "execution_count": null,
   "id": "429605f5",
   "metadata": {},
   "outputs": [],
   "source": [
    "# 1 - Joindre les 2 dataframes `df_passagers` et `df_survie`\n",
    "#df_titanic = df_passagers.join(df_survie, lsuffix='PassengerId', rsuffix='PassengerId')\n",
    "df_titanic = df_passagers.merge(df_survie, on='PassengerId')\n",
    "df_titanic"
   ]
  },
  {
   "cell_type": "code",
   "execution_count": null,
   "id": "a1e4c4a7",
   "metadata": {},
   "outputs": [],
   "source": [
    "# 2 - Combien y a t-il de passagers dans notre dataframe ?\n",
    "nb_passagers = len(df_titanic)\n",
    "nb_passagers"
   ]
  },
  {
   "cell_type": "code",
   "execution_count": null,
   "id": "e87d44aa",
   "metadata": {},
   "outputs": [],
   "source": [
    "# 3 - Quelle est la moyenne du prix du trajet ?\n",
    "moyenne_prix_trajet = df_titanic['Fare'].mean()\n",
    "moyenne_prix_trajet"
   ]
  },
  {
   "cell_type": "code",
   "execution_count": null,
   "id": "94a072e6",
   "metadata": {},
   "outputs": [],
   "source": [
    "# 4 - Quels passagers ont payé les billets les plus chers ?\n",
    "max_prix_trajet = df_titanic['Fare'].max()\n",
    "df_passagers_ticket_le_plus_cher = df_titanic[df_titanic['Fare'] == max_prix_trajet]\n",
    "df_passagers_ticket_le_plus_cher"
   ]
  },
  {
   "cell_type": "code",
   "execution_count": null,
   "id": "05f9cea9",
   "metadata": {},
   "outputs": [],
   "source": [
    "# 5 - Quelles personnes n’ont pas payé leurs billets de 1ère classe ?\n",
    "df_passagers_billet_premiere_classe_gratuit = df_titanic[(df_titanic['Pclass'] == 1) & (df_titanic['Fare'] == 0)]\n",
    "df_passagers_billet_premiere_classe_gratuit"
   ]
  },
  {
   "cell_type": "code",
   "execution_count": null,
   "id": "98e7caf7",
   "metadata": {},
   "outputs": [],
   "source": [
    "# 6 - Quelle personne a obtenu le billet de première classe le moins cher ?\n",
    "df_titanic_classe1 = df_titanic[(df_titanic['Pclass'] == 1) & (df_titanic['Fare'] > 0)]\n",
    "billet_classe_1_le_moins_cher = df_titanic_classe1['Fare'].min()\n",
    "df_titanic_classe1[df_titanic_classe1['Fare'] == billet_classe_1_le_moins_cher]"
   ]
  },
  {
   "cell_type": "code",
   "execution_count": null,
   "id": "bf78c636",
   "metadata": {},
   "outputs": [],
   "source": [
    "# 7 - Quelle est la personne la plus jeune ? et la personne la plus âgée à bord du Titanic ?\n",
    "min_age = df_titanic['Age'].min()\n",
    "max_age = df_titanic['Age'].max()\n",
    "df_passagers_les_plus_jeunes = df_titanic[df_titanic['Age'] == min_age]\n",
    "df_passagers_les_plus_ages = df_titanic[df_titanic['Age'] == max_age]\n",
    "\n",
    "print(f\"La personne la plus jeune est: {df_passagers_les_plus_jeunes['Name'].iloc[0]}\")\n",
    "display(df_passagers_les_plus_jeunes)\n",
    "print(f\"La personne la plus agée est: {df_passagers_les_plus_ages['Name'].iloc[0]}\")\n",
    "display(df_passagers_les_plus_ages)"
   ]
  },
  {
   "cell_type": "code",
   "execution_count": null,
   "id": "f87606db",
   "metadata": {},
   "outputs": [],
   "source": [
    "# 8 - Quel est le prix médian des billets de 1ère, 2ème ou 3ème classe ?\n",
    "df_prix_median_par_classe = df_titanic.groupby(by='Pclass')['Fare'].median().reset_index(name=\"Prix médian\")\n",
    "display(df_prix_median_par_classe)"
   ]
  },
  {
   "cell_type": "code",
   "execution_count": null,
   "id": "9ae5c6da",
   "metadata": {},
   "outputs": [],
   "source": [
    "#Autre solution\n",
    "df_prix_median_par_classe = df_titanic.groupby(by='Pclass').agg(prix_median=('Fare', 'median')).reset_index()\n",
    "display(df_prix_median_par_classe)"
   ]
  },
  {
   "cell_type": "code",
   "execution_count": null,
   "id": "f3b69a74",
   "metadata": {},
   "outputs": [],
   "source": [
    "# Affichage du prix median par classe\n",
    "df_prix_median_par_classe.plot(kind='bar', x='Pclass', y='prix_median', color='skyblue', title='Price per class', grid=True)\n",
    "plt.show()"
   ]
  },
  {
   "cell_type": "code",
   "execution_count": null,
   "id": "8a138735",
   "metadata": {},
   "outputs": [],
   "source": [
    "df_prix_median_par_classe.plot(kind='line', x='Pclass', y='prix_median', marker='o', color='skyblue', title='Price per class', grid=True)\n",
    "plt.show()"
   ]
  },
  {
   "cell_type": "code",
   "execution_count": null,
   "id": "04bdf607",
   "metadata": {},
   "outputs": [],
   "source": [
    "# 9 - Quel est le pourcentage de femmes dans la liste des passagers ?\n",
    "df_passagers_par_genre = df_titanic.groupby(by='Sex').size().reset_index(name='count')\n",
    "df_passagers_par_genre"
   ]
  },
  {
   "cell_type": "code",
   "execution_count": null,
   "id": "071bfc64",
   "metadata": {},
   "outputs": [],
   "source": [
    "df_passagers_par_genre = df_titanic.groupby(by='Sex').agg(count=(\"PassengerId\", \"count\")).reset_index()\n",
    "df_passagers_par_genre"
   ]
  },
  {
   "cell_type": "code",
   "execution_count": null,
   "id": "b12d4cd4",
   "metadata": {},
   "outputs": [],
   "source": [
    "nombre_total_passagers = df_passagers_par_genre['count'].sum()\n",
    "nombre_total_passagers"
   ]
  },
  {
   "cell_type": "code",
   "execution_count": null,
   "id": "16581ea2",
   "metadata": {},
   "outputs": [],
   "source": [
    "# Quel est le pourcentage de femmes dans la liste des passagers ?\n",
    "df_passagers_par_genre['percentage'] = 100*df_passagers_par_genre['count'] / nombre_total_passagers\n",
    "df_passagers_par_genre"
   ]
  },
  {
   "cell_type": "code",
   "execution_count": null,
   "id": "578051bd",
   "metadata": {},
   "outputs": [],
   "source": [
    "#Autre manière avec la fonction apply\n",
    "df_passagers_par_genre['percentage'] = df_passagers_par_genre['count'].apply(lambda nb:100*nb/nombre_total_passagers)\n",
    "df_passagers_par_genre"
   ]
  },
  {
   "cell_type": "code",
   "execution_count": null,
   "id": "4f58fd36",
   "metadata": {},
   "outputs": [],
   "source": [
    "#Visualisation histogramme\n",
    "df_passagers_par_genre.plot(kind='bar', x='Sex', y='percentage', color='skyblue', title='Passagers par genre', grid=True)\n",
    "plt.show()"
   ]
  },
  {
   "cell_type": "code",
   "execution_count": null,
   "id": "8584c9c6",
   "metadata": {},
   "outputs": [],
   "source": [
    "# 10 - Quelle est la proportion des survivants ?\n",
    "df_passagers_par_survie = df_titanic.groupby(by='Survived').size().reset_index(name='count')\n",
    "df_passagers_par_survie"
   ]
  },
  {
   "cell_type": "code",
   "execution_count": null,
   "id": "cd0fe9c0",
   "metadata": {},
   "outputs": [],
   "source": [
    "df_passagers_par_survie['Pourcentage survivants'] = 100*df_passagers_par_survie['count'] / nombre_total_passagers\n",
    "df_passagers_par_survie"
   ]
  },
  {
   "cell_type": "code",
   "execution_count": null,
   "id": "3bb66ac7",
   "metadata": {},
   "outputs": [],
   "source": [
    "df_passagers_par_survie.plot(kind='bar', x='Survived', y='Pourcentage survivants', color='skyblue', title='Pourcentage survivants', grid=True)\n",
    "plt.show()"
   ]
  },
  {
   "cell_type": "code",
   "execution_count": null,
   "id": "1af442a4",
   "metadata": {},
   "outputs": [],
   "source": [
    "# 11 - Quelle est la proportion des survivants par classe de transport ?\n",
    "df_passagers_survie_par_classe = df_titanic.groupby(by=['Pclass', 'Survived']).size().reset_index(name='count')\n",
    "df_passagers_survie_par_classe"
   ]
  },
  {
   "cell_type": "code",
   "execution_count": null,
   "id": "3bd33975",
   "metadata": {},
   "outputs": [],
   "source": [
    "df_passagers_survie_par_classe['Pourcentage survie par classe'] = 100 * df_passagers_survie_par_classe['count'] / df_passagers_survie_par_classe.groupby('Pclass')['count'].transform('sum')\n",
    "df_passagers_survie_par_classe"
   ]
  },
  {
   "cell_type": "code",
   "execution_count": null,
   "id": "df785244",
   "metadata": {},
   "outputs": [],
   "source": [
    "#autre méthode\n",
    "df_passagers_par_classe = df_passagers_survie_par_classe.groupby('Pclass').agg(nb=('count', 'sum')).reset_index()\n",
    "\n",
    "df_passagers_survie_par_classe['Pourcentage survie par classe'] = df_passagers_survie_par_classe \\\n",
    "    .apply(lambda row: 100*row['count'] / df_passagers_par_classe[df_passagers_par_classe['Pclass'] == row['Pclass']]['nb'].sum(), axis='columns')\n",
    "\n",
    "df_passagers_survie_par_classe"
   ]
  },
  {
   "cell_type": "code",
   "execution_count": null,
   "id": "ab9ef791",
   "metadata": {},
   "outputs": [],
   "source": [
    "df_passagers_survie_par_classe[df_passagers_survie_par_classe['Survived'] == True].plot(kind='bar', x='Pclass', y='Pourcentage survie par classe', color='skyblue', title='Pourcentage survivants', grid=True)\n",
    "plt.xticks(rotation=0)\n",
    "plt.show()"
   ]
  },
  {
   "cell_type": "code",
   "execution_count": null,
   "id": "2dde44c9",
   "metadata": {},
   "outputs": [],
   "source": []
  }
 ],
 "metadata": {
  "kernelspec": {
   "display_name": "Python 3 (ipykernel)",
   "language": "python",
   "name": "python3"
  },
  "language_info": {
   "codemirror_mode": {
    "name": "ipython",
    "version": 3
   },
   "file_extension": ".py",
   "mimetype": "text/x-python",
   "name": "python",
   "nbconvert_exporter": "python",
   "pygments_lexer": "ipython3",
   "version": "3.10.9"
  }
 },
 "nbformat": 4,
 "nbformat_minor": 5
}
