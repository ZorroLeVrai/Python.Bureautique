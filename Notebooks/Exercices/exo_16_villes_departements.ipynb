{
 "cells": [
  {
   "cell_type": "markdown",
   "id": "cac599ea",
   "metadata": {},
   "source": [
    "## Analyse des villes de France"
   ]
  },
  {
   "cell_type": "code",
   "execution_count": null,
   "id": "50b9098f",
   "metadata": {},
   "outputs": [],
   "source": [
    "#importation des librairies\n",
    "import pandas as pd\n",
    "import os"
   ]
  },
  {
   "cell_type": "code",
   "execution_count": null,
   "id": "0271667e",
   "metadata": {},
   "outputs": [],
   "source": [
    "#paramètres de l'application\n",
    "chemin_fichier = \"./Data/Villes_France\"\n",
    "fichier_departements = os.path.join(chemin_fichier, \"departements.csv\")\n",
    "fichier_villes = os.path.join(chemin_fichier, \"villes.csv\")\n",
    "print(fichier_departements)\n",
    "print(fichier_villes)"
   ]
  },
  {
   "cell_type": "code",
   "execution_count": null,
   "id": "d487beca",
   "metadata": {},
   "outputs": [],
   "source": [
    "# 1. Générez les dataframes `df_departements` et  `df_villes`\n",
    "df_departements = pd.read_csv(fichier_departements, dtype={\"departement_code\": \"string\"})\n",
    "\n",
    "df_departements"
   ]
  },
  {
   "cell_type": "code",
   "execution_count": null,
   "id": "0e636c15",
   "metadata": {},
   "outputs": [],
   "source": [
    "df_villes = pd.read_csv(fichier_villes, dtype={\"ville_departement\": \"string\", \"ville_code_commune\": \"string\"})\n",
    "\n",
    "df_villes"
   ]
  },
  {
   "cell_type": "code",
   "execution_count": null,
   "id": "93ff0724",
   "metadata": {},
   "outputs": [],
   "source": [
    "# 2. Affichez la liste des 10 villes les plus peuplées en 2012\n",
    "df_villes_plus_peuplees = df_villes \\\n",
    "    .sort_values(\"ville_population_2012\", ascending=False) \\\n",
    "    .head(10)\n",
    "\n",
    "df_villes_plus_peuplees[[\"ville_nom\", \"ville_population_2012\"]]"
   ]
  },
  {
   "cell_type": "code",
   "execution_count": null,
   "id": "1d515bba",
   "metadata": {},
   "outputs": [],
   "source": [
    "df_villes_plus_peuplees[\"ville_nom\"].to_list()"
   ]
  },
  {
   "cell_type": "code",
   "execution_count": null,
   "id": "3f5c01e5",
   "metadata": {},
   "outputs": [],
   "source": [
    "# 3. Obtenez la liste des 10 villes ayant la plus faible superficie\n",
    "df_faible_superficie = df_villes \\\n",
    "    .sort_values(\"ville_surface\") \\\n",
    "    .head(10)\n",
    "\n",
    "df_faible_superficie[[\"ville_nom\", \"ville_surface\"]]"
   ]
  },
  {
   "cell_type": "code",
   "execution_count": null,
   "id": "56858ba9",
   "metadata": {},
   "outputs": [],
   "source": [
    "df_faible_superficie[\"ville_nom\"].to_list()"
   ]
  },
  {
   "cell_type": "code",
   "execution_count": null,
   "id": "9b31d9fd",
   "metadata": {},
   "outputs": [],
   "source": [
    "# 4.Obtenez la liste des départements d’outres-mer (le département commence par \"97\")\n",
    "df_departements_outres_mer = df_departements[df_departements[\"departement_code\"].str.startswith(\"97\")]\n",
    "df_departements_outres_mer"
   ]
  },
  {
   "cell_type": "code",
   "execution_count": null,
   "id": "6f999647",
   "metadata": {},
   "outputs": [],
   "source": [
    "df_departements_outres_mer[\"departement_nom\"].to_list()"
   ]
  },
  {
   "cell_type": "code",
   "execution_count": null,
   "id": "184875c6",
   "metadata": {},
   "outputs": [],
   "source": [
    "# 5. Obtenez le nom des 10 villes les plus peuplées en 2012, ainsi que le nom du département associé.\n",
    "df_all = df_villes.merge(df_departements, left_on=\"ville_departement\", right_on=\"departement_code\", how=\"left\")\n",
    "df_all"
   ]
  },
  {
   "cell_type": "code",
   "execution_count": null,
   "id": "4f648e25",
   "metadata": {},
   "outputs": [],
   "source": [
    "df_villes_plus_peuplees = df_all \\\n",
    "    .sort_values(\"ville_population_2012\", ascending=False) \\\n",
    "    .head(10)\n",
    "    \n",
    "df_villes_plus_peuplees[[\"ville_nom\", \"departement_nom\", \"ville_population_2012\"]]"
   ]
  },
  {
   "cell_type": "code",
   "execution_count": null,
   "id": "d382a16f",
   "metadata": {},
   "outputs": [],
   "source": [
    "# 6. Obtenez la liste du nom de chaque département, associé à son code et du nombre de communes au sein de ces départements\n",
    "df_departements_nb_communes = df_departements.merge(df_villes, left_on=\"departement_code\", right_on=\"ville_departement\", how=\"left\") \\\n",
    "    .groupby([\"departement_nom\", \"departement_code\"]) \\\n",
    "    .agg(nombre_communes=(\"ville_nom\", \"count\")) \\\n",
    "    .sort_values(\"nombre_communes\", ascending=False)\n",
    "\n",
    "df_departements_nb_communes"
   ]
  },
  {
   "cell_type": "code",
   "execution_count": null,
   "id": "fbbcfac8",
   "metadata": {},
   "outputs": [],
   "source": [
    "# 7. Obtenir la liste des 10 plus grands départements, en terme de superficie\n",
    "df_departements_nb_communes = df_all \\\n",
    "    .groupby(\"departement_nom\") \\\n",
    "    .agg(surface=(\"ville_surface\", \"sum\")) \\\n",
    "    .sort_values(\"surface\", ascending=False)\n",
    "\n",
    "df_departements_nb_communes.head(10)"
   ]
  },
  {
   "cell_type": "code",
   "execution_count": null,
   "id": "a6870b60",
   "metadata": {},
   "outputs": [],
   "source": [
    "# 8. Comptez le nombre de villes dont le nom commence par \"Saint\".\n",
    "df_villes_saint = df_villes[df_villes[\"ville_nom\"].str.upper().str.startswith(\"SAINT\")]\n",
    "len(df_villes_saint)"
   ]
  },
  {
   "cell_type": "code",
   "execution_count": null,
   "id": "aaf07344",
   "metadata": {},
   "outputs": [],
   "source": [
    "# 9. Obtenez la liste des villes qui ont un nom existants plusieurs fois\n",
    "df_villes.groupby(\"ville_nom\") \\\n",
    "    .agg(nombre_ville=(\"ville_nom\", \"count\")) \\\n",
    "    .sort_values(\"nombre_ville\", ascending=False)"
   ]
  },
  {
   "cell_type": "code",
   "execution_count": null,
   "id": "0e77d4e4",
   "metadata": {},
   "outputs": [],
   "source": [
    "# 10. Obtenir la liste des villes dont la superficie est supérieure à la superficie moyenne.\n",
    "moyenne_surface = df_villes[\"ville_surface\"].mean()\n",
    "moyenne_surface"
   ]
  },
  {
   "cell_type": "code",
   "execution_count": null,
   "id": "1e053b2f",
   "metadata": {},
   "outputs": [],
   "source": [
    "df_villes_grande_superficie = df_villes[df_villes[\"ville_surface\"] > moyenne_surface]\n",
    "df_villes_grande_superficie[[\"ville_nom\", \"ville_surface\"]]"
   ]
  },
  {
   "cell_type": "code",
   "execution_count": null,
   "id": "20589a32",
   "metadata": {},
   "outputs": [],
   "source": [
    "# 11. Obtenez la liste des départements qui possèdent plus de 2 millions d’habitants\n",
    "df_departements_somme_habitants = df_all \\\n",
    "    .groupby(\"departement_nom\") \\\n",
    "    .agg(somme_habitants=(\"ville_population_2012\", \"sum\"))\n",
    "\n",
    "df_departements_2m_habitants = df_departements_somme_habitants[df_departements_somme_habitants[\"somme_habitants\"] > 2_000_000]\n",
    "df_departements_2m_habitants"
   ]
  },
  {
   "cell_type": "code",
   "execution_count": null,
   "id": "e2d32f01",
   "metadata": {},
   "outputs": [],
   "source": [
    "df_departements_2m_habitants.index.to_list()"
   ]
  },
  {
   "cell_type": "code",
   "execution_count": null,
   "id": "a953ad2a",
   "metadata": {},
   "outputs": [],
   "source": [
    "df_departements[df_departements[\"departement_nom\"].isin(df_departements_2m_habitants.index)]"
   ]
  },
  {
   "cell_type": "code",
   "execution_count": null,
   "id": "27672580",
   "metadata": {},
   "outputs": [],
   "source": [
    "df_villes[df_villes[\"ville_nom\"].str.upper().str.startswith(\"SAINT-\")]"
   ]
  },
  {
   "cell_type": "code",
   "execution_count": null,
   "id": "617a7ccd",
   "metadata": {
    "scrolled": true
   },
   "outputs": [],
   "source": [
    "# 12. Dans votre DataFrame `df_villes`, remplacez les tirets par un espace vide, pour toutes les villes commençant par \"SAINT-\"\n",
    "def remplacement_nom(nom_ville):\n",
    "    if nom_ville.startswith(\"SAINT-\"):\n",
    "        return nom_ville.replace(\"-\", \" \")\n",
    "    return nom_ville\n",
    "\n",
    "df_villes[\"ville_nom\"] = df_villes[\"ville_nom\"].apply(remplacement_nom)"
   ]
  },
  {
   "cell_type": "code",
   "execution_count": null,
   "id": "0155b49a",
   "metadata": {},
   "outputs": [],
   "source": [
    "#Affichage des villes dont le nom commence par \"SAINT\"\n",
    "df_villes[df_villes[\"ville_nom\"].str.upper().str.startswith(\"SAINT\")]\n",
    "\n",
    "#df_villes[df_villes[\"ville_nom\"].apply(lambda ville: ville.upper().startswith(\"SAINT\"))]"
   ]
  },
  {
   "cell_type": "code",
   "execution_count": null,
   "id": "d6836957",
   "metadata": {},
   "outputs": [],
   "source": [
    "#Autre méthode\n",
    "df_villes.loc[df_villes[\"ville_nom\"].str.upper().str.startswith(\"SAINT-\"), \"ville_nom\"] = \\\n",
    "    df_villes[\"ville_nom\"].str.replace(\"-\", \" \", regex=False)\n",
    "\n",
    "df_villes[df_villes[\"ville_nom\"].str.upper().str.startswith(\"SAINT\")]"
   ]
  },
  {
   "cell_type": "code",
   "execution_count": null,
   "id": "05eb1f19",
   "metadata": {},
   "outputs": [],
   "source": [
    "df_clone = df_villes.copy()\n",
    "\n",
    "display(df_clone.loc[df_clone[\"ville_nom\"].str.upper().str.startswith(\"SAINT-\"), \"ville_nom\"])\n",
    "\n",
    "#equivalent\n",
    "display(df_clone[df_clone[\"ville_nom\"].str.upper().str.startswith(\"SAINT-\")][\"ville_nom\"])"
   ]
  },
  {
   "cell_type": "markdown",
   "id": "1d11bb21",
   "metadata": {},
   "source": [
    "## loc et iloc"
   ]
  },
  {
   "cell_type": "code",
   "execution_count": null,
   "id": "e746ab43",
   "metadata": {},
   "outputs": [],
   "source": [
    "df_villes"
   ]
  },
  {
   "cell_type": "code",
   "execution_count": null,
   "id": "46b6f74f",
   "metadata": {},
   "outputs": [],
   "source": [
    "df_villes.loc[2, \"ville_nom_simple\"]"
   ]
  },
  {
   "cell_type": "code",
   "execution_count": null,
   "id": "f1ef1317",
   "metadata": {},
   "outputs": [],
   "source": [
    "df_villes.iloc[2:5, 3:5]"
   ]
  },
  {
   "cell_type": "code",
   "execution_count": null,
   "id": "fec12be0",
   "metadata": {},
   "outputs": [],
   "source": []
  }
 ],
 "metadata": {
  "kernelspec": {
   "display_name": "Python 3 (ipykernel)",
   "language": "python",
   "name": "python3"
  },
  "language_info": {
   "codemirror_mode": {
    "name": "ipython",
    "version": 3
   },
   "file_extension": ".py",
   "mimetype": "text/x-python",
   "name": "python",
   "nbconvert_exporter": "python",
   "pygments_lexer": "ipython3",
   "version": "3.10.9"
  }
 },
 "nbformat": 4,
 "nbformat_minor": 5
}
