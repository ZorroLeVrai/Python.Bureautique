{
 "cells": [
  {
   "cell_type": "code",
   "execution_count": null,
   "id": "43c28894",
   "metadata": {},
   "outputs": [],
   "source": [
    "#importation des librairies\n",
    "from sympy import symbols, solve\n",
    "import numpy as np\n",
    "import matplotlib.pyplot as plt"
   ]
  },
  {
   "cell_type": "code",
   "execution_count": null,
   "id": "e53c800d",
   "metadata": {},
   "outputs": [],
   "source": [
    "#fonction utilisée pour le calcul du prêt immobilier\n",
    "def calcul_pret_immobilier(mortgage, rate, payment, nb_month):\n",
    "    principal = mortgage\n",
    "    for _ in range(0, nb_month):\n",
    "        interest = principal * rate /12\n",
    "        principal -= payment - interest\n",
    "    return principal"
   ]
  },
  {
   "cell_type": "code",
   "execution_count": null,
   "id": "eddd2b51",
   "metadata": {},
   "outputs": [],
   "source": [
    "#recherche de la mensualité pour le paiement du prêt immobilier\n",
    "\n",
    "pret = 100000\n",
    "taux = 0.03\n",
    "nb_mois = 120\n",
    "\n",
    "def mortgage_montly_payment(mensualite):\n",
    "    return calcul_pret_immobilier(pret, taux, mensualite, nb_mois)\n",
    "\n",
    "mensualite = symbols('mensualite')\n",
    "print(\"Mensualité: \", solve(mortgage_montly_payment(mensualite)))"
   ]
  },
  {
   "cell_type": "code",
   "execution_count": null,
   "id": "0f2a3185",
   "metadata": {},
   "outputs": [],
   "source": [
    "# Graphe mensualité de paiement du prêt immobilier\n",
    "\n",
    "# Paramètres\n",
    "pret = 100000\n",
    "taux = 0.03\n",
    "nb_mois = 120\n",
    "\n",
    "# Données\n",
    "xvalues = np.arange(800, 1000, 0.1)\n",
    "yvalues = []\n",
    "for x in xvalues:\n",
    "    yvalues.append(mortgage_montly_payment(x))\n",
    "\n",
    "# Tracer la courbe\n",
    "plt.plot(xvalues, yvalues, label='Mortgage(x)')\n",
    "plt.title('Mortgage')\n",
    "plt.xlabel('x')\n",
    "plt.ylabel('Mortgage(x)')\n",
    "plt.axhline(y=0, color='k')\n",
    "\n",
    "plt.legend()\n",
    "plt.show()"
   ]
  },
  {
   "cell_type": "code",
   "execution_count": null,
   "id": "0241da9a",
   "metadata": {},
   "outputs": [],
   "source": [
    "#recheche de la capacité d'emprunt\n",
    "\n",
    "nb_mois = 12*20\n",
    "taux = 0.03\n",
    "remboursement_par_mois = 1200.0\n",
    "\n",
    "def mortgage_capacity(pret):\n",
    "    return calcul_pret_immobilier(pret, taux, remboursement_par_mois, nb_mois)\n",
    "\n",
    "pret = symbols('pret')\n",
    "print(\"Capacité d'emprunt: \", solve(mortgage_capacity(pret)))"
   ]
  },
  {
   "cell_type": "code",
   "execution_count": null,
   "id": "3f837ba8",
   "metadata": {},
   "outputs": [],
   "source": [
    "# Graphe capacité d'emprunt\n",
    "\n",
    "# Données\n",
    "xvalues = np.arange(150000.0, 300000.0, 1000)\n",
    "yvalues = []\n",
    "for x in xvalues:\n",
    "    yvalues.append(mortgage_capacity(x))\n",
    "\n",
    "# Tracer la courbe\n",
    "plt.plot(xvalues, yvalues, label='Mortgage(x)')\n",
    "plt.title('Mortgage')\n",
    "plt.xlabel('x')\n",
    "plt.ylabel('Mortgage(x)')\n",
    "plt.axhline(y=0, color='k')\n",
    "\n",
    "plt.legend()\n",
    "plt.show()"
   ]
  }
 ],
 "metadata": {
  "kernelspec": {
   "display_name": "Python 3 (ipykernel)",
   "language": "python",
   "name": "python3"
  }
 },
 "nbformat": 4,
 "nbformat_minor": 5
}
