{
 "cells": [
  {
   "cell_type": "markdown",
   "id": "109bcd91",
   "metadata": {},
   "source": [
    "## Temps passé par utilisateur sur les réseaux sociaux"
   ]
  },
  {
   "cell_type": "code",
   "execution_count": null,
   "id": "2c44e9d8",
   "metadata": {},
   "outputs": [],
   "source": [
    "#Importation de librairies\n",
    "import pandas as pd"
   ]
  },
  {
   "cell_type": "code",
   "execution_count": null,
   "id": "211e869a",
   "metadata": {},
   "outputs": [],
   "source": [
    "repertoire = \"./Data/Reseaux/\"\n",
    "fichier_utilisateurs = repertoire + \"utilisateurs.csv\"\n",
    "fichier_temps_passe = repertoire + \"reseaux_sociaux.csv\""
   ]
  },
  {
   "cell_type": "code",
   "execution_count": null,
   "id": "64ce248c",
   "metadata": {},
   "outputs": [],
   "source": [
    "#1. Récupérer les données à partir des DataFrames\n",
    "df_utilisateurs = pd.read_csv(fichier_utilisateurs, encoding=\"latin-1\")\n",
    "\n",
    "df_donnees = pd.read_csv(fichier_temps_passe, encoding=\"latin-1\")\n",
    "\n",
    "display(df_utilisateurs)\n",
    "display(df_donnees)"
   ]
  },
  {
   "cell_type": "code",
   "execution_count": null,
   "id": "4e096387",
   "metadata": {},
   "outputs": [],
   "source": [
    "# 2. & 3. Renommer les colonnes\n",
    "df_utilisateurs.rename(columns={'id': 'id_utilisateur'}, inplace=True)\n",
    "\n",
    "df_donnees.rename(columns={'id': 'id_data'}, inplace=True)\n",
    "\n",
    "display(df_utilisateurs)\n",
    "display(df_donnees)"
   ]
  },
  {
   "cell_type": "code",
   "execution_count": null,
   "id": "f1e28594",
   "metadata": {},
   "outputs": [],
   "source": [
    "display(df_utilisateurs.head())\n",
    "\n",
    "display(df_donnees.head())"
   ]
  },
  {
   "cell_type": "code",
   "execution_count": null,
   "id": "da701137",
   "metadata": {},
   "outputs": [],
   "source": [
    "# 4. Mergez les 2 dataframes\n",
    "df_merge = df_utilisateurs.merge(df_donnees, on=\"adresse IP\", how=\"left\")\n",
    "\n",
    "df_merge"
   ]
  },
  {
   "cell_type": "code",
   "execution_count": null,
   "id": "6d4dc9d0",
   "metadata": {},
   "outputs": [],
   "source": [
    "# 5. Calculez le nombre d'heures total passé par utilisateur\n",
    "df_merge.groupby([\"id_utilisateur\", \"nom\", \"prénom\"]).agg(temps_total=(\"temps passé\", \"sum\"))"
   ]
  },
  {
   "cell_type": "code",
   "execution_count": null,
   "id": "3052f3c2",
   "metadata": {},
   "outputs": [],
   "source": [
    "# 6. Calculez le nombre d'heures total passé par utilisateur\n",
    "df_tps_passe2 = df_merge.groupby([\"nom\", \"prénom\"]) \\\n",
    "    .agg(temps_total=(\"temps passé\", \"sum\"))\n",
    "df_tps_passe2"
   ]
  },
  {
   "cell_type": "code",
   "execution_count": null,
   "id": "896334bb",
   "metadata": {},
   "outputs": [],
   "source": [
    "# 7. Calculez le nombre d'heures total passé sur chaque réseau social\n",
    "df_classement_site = df_merge.groupby([\"site\"]) \\\n",
    "    .agg(temps_total=(\"temps passé\", \"sum\")) \\\n",
    "    .sort_values(\"temps_total\", ascending=False)\n",
    "\n",
    "df_classement_site"
   ]
  },
  {
   "cell_type": "code",
   "execution_count": null,
   "id": "8def1b91",
   "metadata": {},
   "outputs": [],
   "source": [
    "df_classement_site.index.to_list()"
   ]
  },
  {
   "cell_type": "code",
   "execution_count": null,
   "id": "5c05dd07",
   "metadata": {},
   "outputs": [],
   "source": [
    "df_classement_site[\"temps_total\"].to_list()"
   ]
  },
  {
   "cell_type": "markdown",
   "id": "242a4f9a",
   "metadata": {},
   "source": [
    "### Génération de courbes et histogrammes"
   ]
  },
  {
   "cell_type": "code",
   "execution_count": null,
   "id": "3dfc2fa4",
   "metadata": {},
   "outputs": [],
   "source": [
    "import numpy as np\n",
    "import matplotlib.pyplot as plt\n",
    "\n",
    "x = df_classement_site.index\n",
    "y = df_classement_site[\"temps_total\"]\n",
    "\n",
    "#met les labels verticalement\n",
    "plt.xticks(ticks=range(len(x)), labels=x, rotation=90)\n",
    "plt.plot(x, y, label='ma courbe')\n",
    "\n",
    "plt.title('ma courbe')\n",
    "plt.legend()\n",
    "plt.show()"
   ]
  },
  {
   "cell_type": "code",
   "execution_count": null,
   "id": "e277fad7",
   "metadata": {},
   "outputs": [],
   "source": [
    "import matplotlib.pyplot as plt\n",
    "\n",
    "sites = df_classement_site.index\n",
    "tps = df_classement_site[\"temps_total\"]\n",
    "\n",
    "fig, ax = plt.subplots()\n",
    "ax.bar(sites, tps)\n",
    "\n",
    "#met les labels verticalement\n",
    "plt.xticks(ticks=range(len(tps)), labels=sites, rotation=90)\n",
    "plt.show()"
   ]
  },
  {
   "cell_type": "code",
   "execution_count": null,
   "id": "8ef38c22",
   "metadata": {},
   "outputs": [],
   "source": [
    "df_classement_site"
   ]
  },
  {
   "cell_type": "code",
   "execution_count": null,
   "id": "c22472c0",
   "metadata": {},
   "outputs": [],
   "source": [
    "# 8. Au dataframe obtenu précédement, ajoutez le pourcentage de temps passé pour chaque réseau social\n",
    "temps_total_tous_sites = df_classement_site[\"temps_total\"].sum()\n",
    "\n",
    "def calculer_pourcentage_temps(temps):\n",
    "    return round(temps*100 / temps_total_tous_sites, 2)\n",
    "\n",
    "\n",
    "df_classement_site[\"pourcentage temps\"] = df_classement_site[\"temps_total\"].apply(calculer_pourcentage_temps)\n",
    "#df_classement_site[\"pourcentage temps\"] = round((df_classement_site[\"temps_total\"] / temps_total_tous_sites) * 100, 2)\n",
    "\n",
    "df_classement_site"
   ]
  },
  {
   "cell_type": "code",
   "execution_count": null,
   "id": "5b691ec7",
   "metadata": {},
   "outputs": [],
   "source": [
    "df_merge.info()"
   ]
  },
  {
   "cell_type": "code",
   "execution_count": null,
   "id": "b387ed4b",
   "metadata": {},
   "outputs": [],
   "source": [
    "df_merge_cp = df_merge.copy()"
   ]
  },
  {
   "cell_type": "code",
   "execution_count": null,
   "id": "80b8f4b5",
   "metadata": {},
   "outputs": [],
   "source": [
    "df_merge_cp[\"année de naissance\"] = df_merge_cp[\"date de naissance\"].apply(lambda date: pd.to_datetime(date, format=\"%Y-%m-%d\").year)\n",
    "df_merge_cp"
   ]
  },
  {
   "cell_type": "code",
   "execution_count": null,
   "id": "0df482d6",
   "metadata": {},
   "outputs": [],
   "source": [
    "# 9. Au dataframe `df_merge`, ajoutez une colonne `année de naissance`\n",
    "\n",
    "df_merge[\"année de naissance\"] = df_merge[\"date de naissance\"].apply(lambda date: int(date[:4]))\n",
    "df_merge\n",
    "\n",
    "#def transformer_date_naissance_annee(date_de_naissance):\n",
    "#    return int(date_de_naissance[:4])\n",
    "\n",
    "#df_merge[\"année de naissance\"] = df_merge[\"date de naissance\"].apply(transformer_date_naissance_annee)\n",
    "#df_merge"
   ]
  },
  {
   "cell_type": "code",
   "execution_count": null,
   "id": "f88bb63c",
   "metadata": {},
   "outputs": [],
   "source": [
    "# 10. créez un tableau croisé dynamique\n",
    "df_classement_site_annee_naissance = df_merge \\\n",
    "    .pivot_table(index=[\"site\"], columns=[\"année de naissance\"], values=\"temps passé\", aggfunc=\"mean\")\n",
    "df_classement_site_annee_naissance"
   ]
  },
  {
   "cell_type": "code",
   "execution_count": null,
   "id": "7834ef61",
   "metadata": {},
   "outputs": [],
   "source": [
    "from statistics import mean\n",
    "\n",
    "df_classement_site_annee_naissance2 = df_merge \\\n",
    "    .pivot_table(index=[\"site\"], columns=[\"année de naissance\"], values=\"temps passé\", aggfunc=lambda x:round(mean(x), 2))\n",
    "df_classement_site_annee_naissance2"
   ]
  },
  {
   "cell_type": "code",
   "execution_count": null,
   "id": "17aecad9",
   "metadata": {},
   "outputs": [],
   "source": [
    "df_merge \\\n",
    "    .pivot_table(index=[\"site\", \"année de naissance\"], values=\"temps passé\", aggfunc=lambda x:round(mean(x), 2)) \\\n",
    "    .reset_index()"
   ]
  },
  {
   "cell_type": "code",
   "execution_count": null,
   "id": "4e934cec",
   "metadata": {},
   "outputs": [],
   "source": []
  }
 ],
 "metadata": {
  "kernelspec": {
   "display_name": "Python 3 (ipykernel)",
   "language": "python",
   "name": "python3"
  },
  "language_info": {
   "codemirror_mode": {
    "name": "ipython",
    "version": 3
   },
   "file_extension": ".py",
   "mimetype": "text/x-python",
   "name": "python",
   "nbconvert_exporter": "python",
   "pygments_lexer": "ipython3",
   "version": "3.10.9"
  }
 },
 "nbformat": 4,
 "nbformat_minor": 5
}
