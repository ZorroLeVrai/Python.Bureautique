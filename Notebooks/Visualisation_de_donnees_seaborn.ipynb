{
 "cells": [
  {
   "cell_type": "code",
   "execution_count": null,
   "id": "6d81703e",
   "metadata": {},
   "outputs": [],
   "source": [
    "import numpy as np\n",
    "import matplotlib.pyplot as plt\n",
    "import seaborn as sns"
   ]
  },
  {
   "cell_type": "code",
   "execution_count": null,
   "id": "89c79768",
   "metadata": {},
   "outputs": [],
   "source": [
    "# Utilisation de Seaborn pour tracer une courbe\n",
    "x = np.arange(0, 10, 0.1)\n",
    "sns.lineplot(x=x, y=np.sin(x), label='sin(x)')\n",
    "plt.title('Courbe sin(x) avec Seaborn')\n",
    "plt.legend()\n",
    "plt.show()"
   ]
  },
  {
   "cell_type": "code",
   "execution_count": null,
   "id": "152ed9f8",
   "metadata": {},
   "outputs": [],
   "source": [
    "# Utilisation de Seaborn pour tracer une courbe 2\n",
    "x = np.arange(0.2,10,0.1)\n",
    "fig, ax = plt.subplots()\n",
    "ax.plot(x, 1/x, color='red')\n",
    "ax.plot(x, np.log(x), color='blue')\n",
    "ax.grid(True, which='both')"
   ]
  },
  {
   "cell_type": "code",
   "execution_count": null,
   "id": "395d9ebf",
   "metadata": {},
   "outputs": [],
   "source": [
    "#données\n",
    "donnees = np.random.randn(1000)\n",
    "\n",
    "sns.histplot(donnees, bins=30, kde=True, color='skyblue')\n",
    "plt.title('Histogramme des données aléatoires avec Seaborn')\n",
    "plt.xlabel('Valeurs')\n",
    "plt.ylabel('Fréquence')\n",
    "plt.show()"
   ]
  },
  {
   "cell_type": "code",
   "execution_count": null,
   "id": "79561418",
   "metadata": {},
   "outputs": [],
   "source": []
  }
 ],
 "metadata": {
  "kernelspec": {
   "display_name": "Python 3 (ipykernel)",
   "language": "python",
   "name": "python3"
  },
  "language_info": {
   "codemirror_mode": {
    "name": "ipython",
    "version": 3
   },
   "file_extension": ".py",
   "mimetype": "text/x-python",
   "name": "python",
   "nbconvert_exporter": "python",
   "pygments_lexer": "ipython3",
   "version": "3.10.9"
  }
 },
 "nbformat": 4,
 "nbformat_minor": 5
}
