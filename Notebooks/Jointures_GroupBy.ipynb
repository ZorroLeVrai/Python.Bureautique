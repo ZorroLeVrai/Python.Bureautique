{
 "cells": [
  {
   "cell_type": "markdown",
   "id": "d4390928",
   "metadata": {},
   "source": [
    "## Notebook de test\n",
    "Test du **notebook**  \n",
    "*Texte en italique*"
   ]
  },
  {
   "cell_type": "code",
   "execution_count": 1,
   "id": "191276e8",
   "metadata": {},
   "outputs": [],
   "source": [
    "import pandas as pd"
   ]
  },
  {
   "cell_type": "code",
   "execution_count": null,
   "id": "37d56020",
   "metadata": {},
   "outputs": [],
   "source": [
    "#Exemple de jointure\n",
    "\n",
    "# DataFrame 1 : Clients\n",
    "df_clients = pd.DataFrame({\n",
    "    'client_id': [1, 2, 3, 4],\n",
    "    'nom': ['Alice', 'Bob', 'Charlie', 'David'],\n",
    "    'ville': ['Paris', 'Lyon', 'Marseille', 'Toulouse']\n",
    "})\n",
    "\n",
    "# DataFrame 2 : Commandes\n",
    "df_commandes = pd.DataFrame({\n",
    "    'commande_id': [101, 102, 103, 104],\n",
    "    'client_id': [1, 2, 3, 1],\n",
    "    'montant': [250, 150, 200, 300]\n",
    "})\n",
    "\n",
    "display(df_clients)\n",
    "\n",
    "display(df_commandes)"
   ]
  },
  {
   "cell_type": "code",
   "execution_count": null,
   "id": "deb0ba23",
   "metadata": {},
   "outputs": [],
   "source": [
    "# Effectuer une jointure (INNER JOIN) sur la colonne 'client_id'\n",
    "df_jointure = df_clients.merge(df_commandes, on='client_id')\n",
    "df_jointure"
   ]
  },
  {
   "cell_type": "code",
   "execution_count": null,
   "id": "118451e3",
   "metadata": {},
   "outputs": [],
   "source": [
    "#Création d'un dataframe `df_commandes_colonnes_differentes`\n",
    "#pour renommer la colonne \"client_id\" et illustrer les jointures avec\n",
    "#de colonnes de noms différents\n",
    "\n",
    "df_commandes_colonnes_differentes = df_commandes.copy()\n",
    "df_commandes_colonnes_differentes.rename(columns={\"client_id\": \"personne id\"}, inplace=True)\n",
    "print(\"Liste des commandes:\")\n",
    "display(df_commandes_colonnes_differentes)\n",
    "print(\"Liste des clients:\")\n",
    "display(df_clients)"
   ]
  },
  {
   "cell_type": "code",
   "execution_count": null,
   "id": "1234ac7d",
   "metadata": {},
   "outputs": [],
   "source": [
    "# Effectuer une jointure (INNER JOIN) avec des noms des colonnes différents\n",
    "df_clients.merge(df_commandes_colonnes_differentes, left_on='client_id', right_on='personne id')"
   ]
  },
  {
   "cell_type": "code",
   "execution_count": null,
   "id": "fb6a0537",
   "metadata": {},
   "outputs": [],
   "source": [
    "# Effectuer une jointure (LEFT JOIN)\n",
    "df_jointure2 = df_clients.merge(df_commandes, on='client_id', how='left')\n",
    "df_jointure2"
   ]
  },
  {
   "cell_type": "code",
   "execution_count": null,
   "id": "f0760e71",
   "metadata": {},
   "outputs": [],
   "source": [
    "# Repérer les données qui se trouvent uniquement dans le DataFrame de gauche\n",
    "\n",
    "df_jointure_left_sans_union = df_clients.merge(df_commandes, on='client_id', how='left')\n",
    "df_jointure_left_sans_union[df_jointure_left_sans_union[\"commande_id\"].isnull()]"
   ]
  },
  {
   "cell_type": "markdown",
   "id": "93891753",
   "metadata": {},
   "source": [
    "### Exemple de commande GROUP BY\n",
    "Utilisation de la fonction **groupby**"
   ]
  },
  {
   "cell_type": "code",
   "execution_count": null,
   "id": "b83874c1",
   "metadata": {},
   "outputs": [],
   "source": [
    "df_jointure"
   ]
  },
  {
   "cell_type": "code",
   "execution_count": null,
   "id": "e897dd06",
   "metadata": {
    "scrolled": true
   },
   "outputs": [],
   "source": [
    "#Exemple de group by\n",
    "\n",
    "# Grouper par 'client_id' et calculer le montant total dépensé\n",
    "df_groupby = df_jointure.groupby('client_id')['montant'].sum().reset_index()\n",
    "\n",
    "# Afficher le DataFrame résultant\n",
    "display(df_groupby)"
   ]
  },
  {
   "cell_type": "code",
   "execution_count": null,
   "id": "b38d77e5",
   "metadata": {},
   "outputs": [],
   "source": [
    "df_groupby.info()"
   ]
  },
  {
   "cell_type": "code",
   "execution_count": null,
   "id": "3dddb247",
   "metadata": {},
   "outputs": [],
   "source": [
    "df_groupbydf = pd.DataFrame(df_jointure.groupby('client_id')['montant'].sum())\n",
    "df_groupbydf"
   ]
  },
  {
   "cell_type": "code",
   "execution_count": null,
   "id": "233fde70",
   "metadata": {},
   "outputs": [],
   "source": [
    "df_groupbydf.index"
   ]
  },
  {
   "cell_type": "code",
   "execution_count": null,
   "id": "7bf2f56f",
   "metadata": {},
   "outputs": [],
   "source": [
    "df_jointure.groupby(['client_id']).agg(somme_total=(\"montant\", \"sum\"))"
   ]
  },
  {
   "cell_type": "code",
   "execution_count": null,
   "id": "e83d2dd8",
   "metadata": {},
   "outputs": [],
   "source": [
    "# Grouper par 'client_id' et calculer le montant total dépensé\n",
    "df_groupby2 = df_jointure.groupby(['client_id']).agg(somme_total=(\"montant\", \"sum\")).reset_index()\n",
    "\n",
    "# Afficher le DataFrame résultant\n",
    "display(df_groupby2)"
   ]
  },
  {
   "cell_type": "code",
   "execution_count": null,
   "id": "be3a6a8b",
   "metadata": {},
   "outputs": [],
   "source": [
    "df_groupby2[\"somme_total\"].sum()"
   ]
  },
  {
   "cell_type": "markdown",
   "id": "94f90037",
   "metadata": {},
   "source": [
    "### Repérer des données se trouvant dans un dataframe mais pas dans l'autre\n",
    "Utilisation de la fonction merge avec un merge 'left' et indicator=True pour repérer uniquement les données présentes dans le premier dataframe"
   ]
  },
  {
   "cell_type": "code",
   "execution_count": null,
   "id": "d1eca185",
   "metadata": {},
   "outputs": [],
   "source": [
    "import pandas as pd\n",
    "\n",
    "# df1 : Liste des personnes dans df1\n",
    "df1 = pd.DataFrame({\n",
    "    'nom': ['Dupont', 'Martin', 'Durand', 'Bernard'],\n",
    "    'prenom': ['Alice', 'Bob', 'Charlie', 'David']\n",
    "})\n",
    "\n",
    "# df2 : Liste des personnes dans df2\n",
    "df2 = pd.DataFrame({\n",
    "    'nom': ['Martin', 'Bernard', 'Lefevre'],\n",
    "    'prenom': ['Bob', 'David', 'Emma']\n",
    "})\n",
    "\n",
    "print(\"DataFrame df1:\")\n",
    "display(df1)\n",
    "print(\"\\nDataFrame df2:\")\n",
    "display(df2)"
   ]
  },
  {
   "cell_type": "code",
   "execution_count": null,
   "id": "1f818fe0",
   "metadata": {},
   "outputs": [],
   "source": [
    "# Effectuer une jointure externe gauche (left join)\n",
    "# indicator=True : Ajoute une colonne _merge indiquant l'origine de chaque ligne.\n",
    "df_diff = pd.merge(df1, df2, on=['nom', 'prenom'], how='left', indicator=True)\n",
    "df_diff"
   ]
  },
  {
   "cell_type": "code",
   "execution_count": null,
   "id": "e7db2322",
   "metadata": {},
   "outputs": [],
   "source": [
    "# Sélectionner uniquement les lignes où '_merge' vaut 'left_only'\n",
    "df_diff2 = df_diff[df_diff['_merge'] == 'left_only']\n",
    "df_diff2"
   ]
  },
  {
   "cell_type": "code",
   "execution_count": null,
   "id": "98d990a3",
   "metadata": {},
   "outputs": [],
   "source": [
    "print(\"\\nPersonnes présentes dans df1 mais pas dans df2:\")\n",
    "df_diff2[['nom','prenom']]"
   ]
  },
  {
   "cell_type": "code",
   "execution_count": null,
   "id": "3fcf7f2d",
   "metadata": {},
   "outputs": [],
   "source": [
    "df2[['nom', 'prenom']].to_dict(orient='list')"
   ]
  },
  {
   "cell_type": "code",
   "execution_count": null,
   "id": "abae3075",
   "metadata": {},
   "outputs": [],
   "source": [
    "# Autre méthode (utilisation de la fonction isin)\n",
    "df1[['nom', 'prenom']].isin(df2[['nom', 'prenom']].to_dict(orient='list'))"
   ]
  },
  {
   "cell_type": "code",
   "execution_count": null,
   "id": "2f3c41c0",
   "metadata": {},
   "outputs": [],
   "source": [
    "~df1[['nom', 'prenom']].isin(df2[['nom', 'prenom']].to_dict(orient='list')).all(axis=1)"
   ]
  },
  {
   "cell_type": "code",
   "execution_count": null,
   "id": "429d9933",
   "metadata": {},
   "outputs": [],
   "source": [
    "mask = ~df1[['nom', 'prenom']].isin(df2[['nom', 'prenom']].to_dict(orient='list')).all(axis=1)\n",
    "mask"
   ]
  },
  {
   "cell_type": "code",
   "execution_count": null,
   "id": "b361f978",
   "metadata": {},
   "outputs": [],
   "source": [
    "df1[mask]"
   ]
  },
  {
   "cell_type": "code",
   "execution_count": null,
   "id": "bccb95b0",
   "metadata": {},
   "outputs": [],
   "source": []
  }
 ],
 "metadata": {
  "kernelspec": {
   "display_name": "Python 3 (ipykernel)",
   "language": "python",
   "name": "python3"
  },
  "language_info": {
   "codemirror_mode": {
    "name": "ipython",
    "version": 3
   },
   "file_extension": ".py",
   "mimetype": "text/x-python",
   "name": "python",
   "nbconvert_exporter": "python",
   "pygments_lexer": "ipython3",
   "version": "3.10.9"
  }
 },
 "nbformat": 4,
 "nbformat_minor": 5
}
