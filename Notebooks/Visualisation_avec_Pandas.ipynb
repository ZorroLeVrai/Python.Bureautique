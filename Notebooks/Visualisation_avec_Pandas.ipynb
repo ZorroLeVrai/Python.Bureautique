{
 "cells": [
  {
   "cell_type": "markdown",
   "id": "f87ebbb6",
   "metadata": {},
   "source": [
    "## Visualisation avec Pandas"
   ]
  },
  {
   "cell_type": "code",
   "execution_count": null,
   "id": "4dd84e02",
   "metadata": {},
   "outputs": [],
   "source": [
    "#importation des librairies\n",
    "import pandas as pd\n",
    "import matplotlib.pyplot as plt\n",
    "import seaborn as sns"
   ]
  },
  {
   "cell_type": "code",
   "execution_count": null,
   "id": "a8b4c7ab",
   "metadata": {},
   "outputs": [],
   "source": [
    "#Création d'un DataFrame d'exemple\n",
    "data = {\n",
    "    'Année': [2015, 2016, 2017, 2018, 2019, 2020],\n",
    "    'Ventes': [150, 200, 250, 300, 400, 450],\n",
    "    'Profit': [30, 50, 70, 100, 120, 150]\n",
    "}\n",
    "\n",
    "df = pd.DataFrame(data)"
   ]
  },
  {
   "cell_type": "code",
   "execution_count": null,
   "id": "a2a463de",
   "metadata": {},
   "outputs": [],
   "source": [
    "#Visualisation du Dataframe\n",
    "df"
   ]
  },
  {
   "cell_type": "code",
   "execution_count": null,
   "id": "22c62f9b",
   "metadata": {},
   "outputs": [],
   "source": [
    "# Exemple 1: Graphique en ligne (line plot)\n",
    "plot1 = df.plot(x='Année', y='Ventes', kind='line', marker='o', title='Ventes annuelles', grid=True)\n",
    "df.plot(x='Année', y='Profit', kind='line', marker='o', title='Profit', grid=True, ax=plot1)\n",
    "plt.xlabel(\"Année\")\n",
    "plt.ylabel(\"Ventes\")\n",
    "plt.show()"
   ]
  },
  {
   "cell_type": "code",
   "execution_count": null,
   "id": "412e23de",
   "metadata": {},
   "outputs": [],
   "source": [
    "# Exemple 2: Graphique à barres (bar plot)\n",
    "df.plot(x='Année', y='Ventes', kind='bar', title='Ventes annuelles en barres', color='skyblue')\n",
    "plt.xlabel(\"Année\")\n",
    "plt.ylabel(\"Ventes\")\n",
    "plt.show()"
   ]
  },
  {
   "cell_type": "code",
   "execution_count": null,
   "id": "c04eb1c7",
   "metadata": {},
   "outputs": [],
   "source": [
    "# Exemple 3: Diagramme de dispersion (scatter plot) avec Matplotlib\n",
    "plt.scatter(df['Ventes'], df['Profit'], color='blue', edgecolor='black')\n",
    "\n",
    "# Ajout du titre et des étiquettes\n",
    "plt.title(\"Relation entre Ventes et Profit\")\n",
    "plt.xlabel(\"Ventes\")\n",
    "plt.ylabel(\"Profit\")\n",
    "plt.grid(True)\n",
    "\n",
    "# Affichage du graphique\n",
    "plt.show()"
   ]
  },
  {
   "cell_type": "code",
   "execution_count": null,
   "id": "6e9cfd41",
   "metadata": {},
   "outputs": [],
   "source": [
    "# Exemple 3: Diagramme de dispersion (scatter plot) avec Seaborn\n",
    "sns.scatterplot(x='Ventes', y='Profit', data=df)\n",
    "plt.title(\"Relation entre Ventes et Profit\")\n",
    "plt.xlabel(\"Ventes\")\n",
    "plt.ylabel(\"Profit\")\n",
    "plt.grid(True)\n",
    "plt.show()"
   ]
  },
  {
   "cell_type": "code",
   "execution_count": null,
   "id": "311fcaca",
   "metadata": {},
   "outputs": [],
   "source": [
    "# Exemple 4: Histogramme\n",
    "df['Ventes'].plot(kind='hist', bins=5, title='Distribution des Ventes', color='purple', edgecolor='black')\n",
    "plt.xlabel(\"Ventes\")\n",
    "plt.show()"
   ]
  },
  {
   "cell_type": "code",
   "execution_count": null,
   "id": "fe67ce62",
   "metadata": {},
   "outputs": [],
   "source": [
    "# Exemple 5: Graphique en secteurs (pie chart)\n",
    "df.set_index('Année')['Ventes'].plot(kind='pie', autopct='%.2f%%', title='Répartition des ventes par année')\n",
    "plt.ylabel(\"\")  # Supprime l'étiquette du y-axis dans le graphique en secteurs\n",
    "plt.show()"
   ]
  },
  {
   "cell_type": "code",
   "execution_count": null,
   "id": "b74fbaa6",
   "metadata": {},
   "outputs": [],
   "source": []
  }
 ],
 "metadata": {
  "kernelspec": {
   "display_name": "Python 3 (ipykernel)",
   "language": "python",
   "name": "python3"
  },
  "language_info": {
   "codemirror_mode": {
    "name": "ipython",
    "version": 3
   },
   "file_extension": ".py",
   "mimetype": "text/x-python",
   "name": "python",
   "nbconvert_exporter": "python",
   "pygments_lexer": "ipython3",
   "version": "3.10.9"
  }
 },
 "nbformat": 4,
 "nbformat_minor": 5
}
