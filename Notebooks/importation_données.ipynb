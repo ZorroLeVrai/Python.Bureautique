{
 "cells": [
  {
   "cell_type": "code",
   "execution_count": null,
   "id": "af1cd208",
   "metadata": {},
   "outputs": [],
   "source": [
    "# Lecture d'un fichier texte\n",
    "with open('input.txt', 'r') as file:\n",
    "    contenu = file.read()\n",
    "    print(contenu)"
   ]
  },
  {
   "cell_type": "code",
   "execution_count": null,
   "id": "cb57d3f6",
   "metadata": {},
   "outputs": [],
   "source": [
    "import json\n",
    "\n",
    "# Lecture d'un fichier JSON\n",
    "with open('input.json', 'r') as file:\n",
    "    donnees_json = json.load(file)\n",
    "\n",
    "# Affichage des données\n",
    "pretty_json = json.dumps(donnees_json, indent=2)\n",
    "print(pretty_json)"
   ]
  },
  {
   "cell_type": "code",
   "execution_count": null,
   "id": "f747de75",
   "metadata": {},
   "outputs": [],
   "source": [
    "# Accès à un élément du json\n",
    "donnees_json['menu']['popup']['menuitem'][0]['value']"
   ]
  },
  {
   "cell_type": "code",
   "execution_count": null,
   "id": "4e184684",
   "metadata": {},
   "outputs": [],
   "source": [
    "import csv\n",
    "\n",
    "with open('input.csv', 'r') as csv_file:\n",
    "    csv_reader = csv.reader(csv_file, delimiter=',')\n",
    "    # lecture du header de des premières lignes\n",
    "    for row in csv_reader:\n",
    "        if row:\n",
    "            print(row)"
   ]
  },
  {
   "cell_type": "code",
   "execution_count": null,
   "id": "00269a4f",
   "metadata": {},
   "outputs": [],
   "source": [
    "import pandas as pd\n",
    "\n",
    "# Lecture d'un fichier CSV\n",
    "donnees_csv = pd.read_csv(\"input.csv\")\n",
    "\n",
    "# Affichage des premières lignes\n",
    "display(donnees_csv)"
   ]
  },
  {
   "cell_type": "code",
   "execution_count": null,
   "id": "ad912b05",
   "metadata": {},
   "outputs": [],
   "source": [
    "# même exemple avec le chemin complet\n",
    "fichier_chemin = r\"D:\\Users\\Amine\\Prgm\\Python\\Python.Bureautique\\Notebooks\\input.csv\"\n",
    "\n",
    "input_csv = pd.read_csv(fichier_chemin)\n",
    "\n",
    "input_csv"
   ]
  },
  {
   "cell_type": "code",
   "execution_count": null,
   "id": "955acab2",
   "metadata": {},
   "outputs": [],
   "source": [
    "import pandas as pd\n",
    "\n",
    "# Lecture d'un fichier CSV\n",
    "donnees_csv = pd.read_csv('input2.csv', delimiter=\";\")\n",
    "\n",
    "# Affichage des premières lignes\n",
    "donnees_csv.head()"
   ]
  },
  {
   "cell_type": "code",
   "execution_count": null,
   "id": "65d957c9",
   "metadata": {},
   "outputs": [],
   "source": [
    "import pandas as pd\n",
    "\n",
    "# Lecture d'un fichier Excel\n",
    "donnees_excel = pd.read_excel('input.xlsx')\n",
    "\n",
    "# Affichage des premières lignes\n",
    "display(donnees_excel)"
   ]
  },
  {
   "cell_type": "code",
   "execution_count": null,
   "id": "3adea986",
   "metadata": {},
   "outputs": [],
   "source": [
    "#Affichage de l'onglet \"Sheet1\"\n",
    "\n",
    "# Lecture d'un fichier Excel\n",
    "donnees_excel = pd.read_excel('input.xlsx', sheet_name=\"Sheet1\")\n",
    "\n",
    "# Affichage des premières lignes\n",
    "donnees_excel"
   ]
  },
  {
   "cell_type": "code",
   "execution_count": null,
   "id": "d37596eb",
   "metadata": {},
   "outputs": [],
   "source": [
    "print(\"donnees_csv\")\n",
    "display(donnees_csv)\n",
    "print(\"donnees_excel\")\n",
    "display(donnees_excel)"
   ]
  },
  {
   "cell_type": "code",
   "execution_count": null,
   "id": "eac9fe7c",
   "metadata": {},
   "outputs": [],
   "source": []
  }
 ],
 "metadata": {
  "kernelspec": {
   "display_name": "Python 3 (ipykernel)",
   "language": "python",
   "name": "python3"
  },
  "language_info": {
   "codemirror_mode": {
    "name": "ipython",
    "version": 3
   },
   "file_extension": ".py",
   "mimetype": "text/x-python",
   "name": "python",
   "nbconvert_exporter": "python",
   "pygments_lexer": "ipython3",
   "version": "3.10.9"
  }
 },
 "nbformat": 4,
 "nbformat_minor": 5
}
